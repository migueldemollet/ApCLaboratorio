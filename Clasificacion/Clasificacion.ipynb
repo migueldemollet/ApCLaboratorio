{
 "cells": [
  {
   "cell_type": "markdown",
   "id": "9cbd930b",
   "metadata": {},
   "source": [
    "## Librerias Utilizadas"
   ]
  },
  {
   "cell_type": "code",
   "execution_count": 1,
   "id": "e8efc9d9",
   "metadata": {},
   "outputs": [],
   "source": [
    "import numpy as np\n",
    "import pandas as pd\n",
    "import matplotlib.pyplot as plt\n",
    "from sklearn.linear_model import LogisticRegression\n",
    "from sklearn import svm, ensemble,metrics\n",
    "from sklearn.model_selection import train_test_split, GridSearchCV,RandomizedSearchCV,KFold, StratifiedKFold, cross_val_score,LeaveOneOut\n",
    "from numpy import mean,std\n",
    "import seaborn as sns\n",
    "from sklearn.metrics import confusion_matrix, accuracy_score,precision_score, recall_score, f1_score, accuracy_score,roc_curve,classification_report,auc\n",
    "from sklearn.preprocessing import OneHotEncoder\n",
    "from sklearn.svm import SVC\n",
    "from sklearn.ensemble import RandomForestClassifier\n",
    "from sklearn.neighbors import KNeighborsClassifier\n",
    "from sklearn.tree import DecisionTreeClassifier\n",
    "from sklearn.naive_bayes import GaussianNB\n",
    "import warnings\n",
    "warnings.filterwarnings('ignore')\n",
    "\n"
   ]
  },
  {
   "cell_type": "markdown",
   "id": "58286873",
   "metadata": {},
   "source": [
    "## Apartado B Comparativa de modelos "
   ]
  },
  {
   "cell_type": "markdown",
   "id": "fef8dc50",
   "metadata": {},
   "source": [
    "### Cargando los datos"
   ]
  },
  {
   "cell_type": "code",
   "execution_count": 4,
   "id": "85e5db02",
   "metadata": {},
   "outputs": [],
   "source": [
    "pd.set_option('display.float_format', lambda x: '%.3f' % x)\n",
    "#Obligamos que meutre todas las columnas\n",
    "pd.set_option('display.max_columns', None)\n",
    "\n",
    "# Visualitzarem només 3 decimals per mostra\n",
    "pd.set_option('display.float_format', lambda x: '%.3f' % x)\n",
    "\n",
    "# Funcio per a llegir dades en format csv\n",
    "def load_dataset(path):\n",
    "    dataset = pd.read_csv(path, header=0, delimiter=',')\n",
    "    return dataset\n",
    "\n",
    "# Carreguem dataset d'exemple\n",
    "dataset = load_dataset('db\\\\heart.csv')\n",
    "data = dataset.values"
   ]
  },
  {
   "cell_type": "markdown",
   "id": "1b1242b1",
   "metadata": {},
   "source": [
    "### Entrenando modelo para comparativa"
   ]
  },
  {
   "cell_type": "code",
   "execution_count": 5,
   "id": "4681db49",
   "metadata": {},
   "outputs": [],
   "source": [
    "X = dataset.drop('output', axis=1)\n",
    "y=dataset['output']\n",
    "X_train, X_test, y_train, y_test = train_test_split(X, y, train_size=0.5)"
   ]
  },
  {
   "cell_type": "markdown",
   "id": "1d18c8f9",
   "metadata": {},
   "source": [
    "### Regresion Logistica "
   ]
  },
  {
   "cell_type": "markdown",
   "id": "7d29dfa1",
   "metadata": {},
   "source": [
    "#### Determinar el mejor parametro"
   ]
  },
  {
   "cell_type": "code",
   "execution_count": 6,
   "id": "0746e726",
   "metadata": {},
   "outputs": [
    {
     "data": {
      "text/plain": [
       "GridSearchCV(cv=10, estimator=LogisticRegression(),\n",
       "             param_grid={'C': [0.001, 0.01, 0.1, 1, 10, 100, 1000],\n",
       "                         'penalty': ['l1', 'l2']})"
      ]
     },
     "execution_count": 6,
     "metadata": {},
     "output_type": "execute_result"
    }
   ],
   "source": [
    "#Esta es una manera de determinar los parametros necesarios!\n",
    "regresion_logistica= LogisticRegression()\n",
    "tuned_parameters = {'C': [0.001, 0.01, 0.1, 1, 10, 100, 1000] ,'penalty':['l1','l2']}\n",
    "regresion_logistica= GridSearchCV(regresion_logistica, tuned_parameters,cv=10)\n",
    "regresion_logistica.fit(X_train,y_train)"
   ]
  },
  {
   "cell_type": "code",
   "execution_count": 7,
   "id": "265ec05d",
   "metadata": {},
   "outputs": [
    {
     "data": {
      "text/plain": [
       "1.0"
      ]
     },
     "execution_count": 7,
     "metadata": {},
     "output_type": "execute_result"
    }
   ],
   "source": [
    "y_prob = regresion_logistica.predict_proba(X_test)[:,1]  \n",
    "y_pred = np.where(y_prob > 0.5, 1, 0) \n",
    "regresion_logistica.score(X_test, y_pred)"
   ]
  },
  {
   "cell_type": "code",
   "execution_count": 153,
   "id": "4209466e",
   "metadata": {},
   "outputs": [
    {
     "data": {
      "text/plain": [
       "0.9312030731622141"
      ]
     },
     "execution_count": 153,
     "metadata": {},
     "output_type": "execute_result"
    }
   ],
   "source": [
    "false_positive_rate, true_positive_rate, thresholds = roc_curve(y_test, y_prob)\n",
    "roc_auc = auc(false_positive_rate, true_positive_rate)\n",
    "roc_auc"
   ]
  },
  {
   "cell_type": "code",
   "execution_count": 154,
   "id": "ad35438e",
   "metadata": {},
   "outputs": [
    {
     "data": {
      "text/plain": [
       "Text(0.5, 0, 'False Positive Rate')"
      ]
     },
     "execution_count": 154,
     "metadata": {},
     "output_type": "execute_result"
    },
    {
     "data": {
      "image/png": "[encoded data removed]",
      "text/plain": [
       "<Figure size 576x576 with 1 Axes>"
      ]
     },
     "metadata": {
      "needs_background": "light"
     },
     "output_type": "display_data"
    }
   ],
   "source": [
    "plt.figure(figsize=(8,8))\n",
    "plt.title('Curva de ROC')\n",
    "plt.plot(false_positive_rate,true_positive_rate, color='red',label = 'AUC = %0.2f' % roc_auc)\n",
    "plt.legend(loc = 'lower right')\n",
    "plt.plot([0, 1], [0, 1],linestyle='--')\n",
    "plt.ylabel('True Positive Rate')\n",
    "plt.xlabel('False Positive Rate')"
   ]
  },
  {
   "cell_type": "markdown",
   "id": "2dc3e98a",
   "metadata": {},
   "source": [
    "### SVM "
   ]
  },
  {
   "cell_type": "code",
   "execution_count": 155,
   "id": "433554e5",
   "metadata": {},
   "outputs": [],
   "source": [
    "tuned_parameters = {\n",
    " 'C': [1, 10, 100,500, 1000], 'kernel': ['linear','rbf'],\n",
    " 'C': [1, 10, 100,500, 1000], 'gamma': [1,0.1,0.01,0.001, 0.0001], 'kernel': ['rbf']\n",
    "    }"
   ]
  },
  {
   "cell_type": "code",
   "execution_count": 156,
   "id": "bf314869",
   "metadata": {},
   "outputs": [],
   "source": [
    "svm_model=SVC()\n",
    "model_svm = RandomizedSearchCV(svm_model, tuned_parameters,cv=10,scoring='accuracy',n_iter=30)\n",
    "model_svm.fit(X_train, y_train)\n",
    "y_pred= model_svm.predict(X_test)"
   ]
  },
  {
   "cell_type": "code",
   "execution_count": 157,
   "id": "72c2d2fb",
   "metadata": {},
   "outputs": [
    {
     "data": {
      "text/plain": [
       "0.717565915837262"
      ]
     },
     "execution_count": 157,
     "metadata": {},
     "output_type": "execute_result"
    }
   ],
   "source": [
    "false_positive_rate, true_positive_rate, thresholds = roc_curve(y_test, y_pred)\n",
    "roc_auc = auc(false_positive_rate, true_positive_rate)\n",
    "roc_auc"
   ]
  },
  {
   "cell_type": "code",
   "execution_count": 158,
   "id": "aa9fc448",
   "metadata": {},
   "outputs": [
    {
     "data": {
      "text/plain": [
       "Text(0.5, 0, 'False Positive Rate')"
      ]
     },
     "execution_count": 158,
     "metadata": {},
     "output_type": "execute_result"
    },
    {
     "data": {
      "image/png": "[encoded data removed]",
      "text/plain": [
       "<Figure size 576x576 with 1 Axes>"
      ]
     },
     "metadata": {
      "needs_background": "light"
     },
     "output_type": "display_data"
    }
   ],
   "source": [
    "plt.figure(figsize=(8,8))\n",
    "plt.title('Curva de ROC')\n",
    "plt.plot(false_positive_rate,true_positive_rate, color='red',label = 'AUC = %0.2f' % roc_auc)\n",
    "plt.plot([0, 1], [0, 1],linestyle='--')\n",
    "plt.ylabel('True Positive Rate')\n",
    "plt.xlabel('False Positive Rate')"
   ]
  },
  {
   "cell_type": "markdown",
   "id": "143f0344",
   "metadata": {},
   "source": [
    "### Random Forest"
   ]
  },
  {
   "cell_type": "code",
   "execution_count": 159,
   "id": "ef1958fb",
   "metadata": {},
   "outputs": [],
   "source": [
    "modelo_rf = RandomForestClassifier(n_estimators=300,min_samples_leaf=0.15)\n",
    "modelo_rf.fit(X_train,y_train)\n",
    "y_pred=modelo_rf.predict(X_test)"
   ]
  },
  {
   "cell_type": "code",
   "execution_count": 160,
   "id": "a41e55cc",
   "metadata": {},
   "outputs": [
    {
     "data": {
      "text/plain": [
       "0.8418892963156974"
      ]
     },
     "execution_count": 160,
     "metadata": {},
     "output_type": "execute_result"
    }
   ],
   "source": [
    "false_positive_rate, true_positive_rate, thresholds = roc_curve(y_test, y_pred)\n",
    "roc_auc = auc(false_positive_rate, true_positive_rate)\n",
    "roc_auc"
   ]
  },
  {
   "cell_type": "code",
   "execution_count": 161,
   "id": "5afbc6eb",
   "metadata": {},
   "outputs": [
    {
     "data": {
      "text/plain": [
       "Text(0.5, 0, 'False Positive Rate')"
      ]
     },
     "execution_count": 161,
     "metadata": {},
     "output_type": "execute_result"
    },
    {
     "data": {
      "image/png": "[encoded data removed]",
      "text/plain": [
       "<Figure size 576x576 with 1 Axes>"
      ]
     },
     "metadata": {
      "needs_background": "light"
     },
     "output_type": "display_data"
    }
   ],
   "source": [
    "plt.figure(figsize=(8,8))\n",
    "plt.title('Curva de ROC')\n",
    "plt.plot(false_positive_rate,true_positive_rate, color='red',label = 'AUC = %0.2f' % roc_auc)\n",
    "plt.plot([0, 1], [0, 1],linestyle='--')\n",
    "plt.ylabel('True Positive Rate')\n",
    "plt.xlabel('False Positive Rate')"
   ]
  },
  {
   "cell_type": "markdown",
   "id": "c8223260",
   "metadata": {},
   "source": [
    "### Comparativa de modelos por presicion "
   ]
  },
  {
   "cell_type": "code",
   "execution_count": 162,
   "id": "e26a5c76",
   "metadata": {},
   "outputs": [],
   "source": [
    "modelos_test = [SVC(kernel='linear',C =100),\n",
    "          RandomForestClassifier(n_estimators=300,random_state=40),\n",
    "          KNeighborsClassifier(), \n",
    "          LogisticRegression(max_iter=1000,solver='lbfgs'),\n",
    "          DecisionTreeClassifier(),\n",
    "          GaussianNB(),]\n",
    "\n",
    "modelos = ['SVC', 'Random Forest','KNN',  'Regresion Logistica','DecisionTreeClassifier','GaussianNB']"
   ]
  },
  {
   "cell_type": "code",
   "execution_count": 163,
   "id": "5bab18ea",
   "metadata": {},
   "outputs": [
    {
     "name": "stdout",
     "output_type": "stream",
     "text": [
      "Precision = SVC : 82.12 %\n",
      "Precision = Random Forest : 100.0 %\n",
      "Precision = KNN : 76.82 %\n",
      "Precision = Regresion Logistica : 82.78 %\n",
      "Precision = DecisionTreeClassifier : 100.0 %\n",
      "Precision = GaussianNB : 82.78 %\n"
     ]
    }
   ],
   "source": [
    "scores_unscaled = []\n",
    "for index,model in enumerate(modelos_test):\n",
    "    try:\n",
    "        model.fit(X_train,y_train)\n",
    "        print(\"Precision =\",modelos[index] ,\":\",round(model.score(X_train,y_train)*100,2),\"%\")\n",
    "        scores_unscaled.append(round(model.score(X_train,y_train)*100,2))\n",
    "    except:\n",
    "        print(\"Skipped\",modelos[index])"
   ]
  },
  {
   "cell_type": "code",
   "execution_count": 164,
   "id": "6b48b094",
   "metadata": {},
   "outputs": [
    {
     "data": {
      "image/png": "[encoded data removed]",
      "text/plain": [
       "<Figure size 432x288 with 1 Axes>"
      ]
     },
     "metadata": {
      "needs_background": "light"
     },
     "output_type": "display_data"
    }
   ],
   "source": [
    "# plt.bar(range(len(modelnames)),scores_unscaled, color = ['blue','red'])\n",
    "plt.plot(range(len(modelos)),scores_unscaled, '-o')\n",
    "plt.xticks(range(0,6,1),labels = modelos, rotation = 90)\n",
    "plt.grid(visible=True)\n",
    "\n",
    "plt.show()"
   ]
  },
  {
   "cell_type": "code",
   "execution_count": 165,
   "id": "439f5263",
   "metadata": {},
   "outputs": [
    {
     "name": "stdout",
     "output_type": "stream",
     "text": [
      "Correct classification Logistic  0.5 % of the data:  0.7697368421052632\n",
      "Correct classification SVM       0.5 % of the data:  0.5986842105263158\n",
      "Correct classification Logistic  0.7 % of the data:  0.6813186813186813\n",
      "Correct classification SVM       0.7 % of the data:  0.6373626373626373\n",
      "Correct classification Logistic  0.8 % of the data:  0.6557377049180327\n",
      "Correct classification SVM       0.8 % of the data:  0.6721311475409836\n"
     ]
    },
    {
     "data": {
      "image/png": "[encoded data removed]",
      "text/plain": [
       "<Figure size 1152x432 with 2 Axes>"
      ]
     },
     "metadata": {
      "needs_background": "light"
     },
     "output_type": "display_data"
    }
   ],
   "source": [
    "# Take the first 5 features. We could avoid this by using a two-dim dataset\n",
    "X =  dataset[['thalachh','cp']].values\n",
    "#X =  dataset[['thalach','cp','slp','exng','oldpeak','caa','thall']].values\n",
    "#X =  dataset[['thalachh','cp','slp','exng','oldpeak']].values\n",
    "y = dataset['output']\n",
    "\n",
    "n_classes = 2\n",
    "    \n",
    "fig, sub = plt.subplots(1, 2, figsize=(16,6))\n",
    "sub[0].scatter(X[:,0], y, c=y, cmap=plt.cm.coolwarm, edgecolors='k')\n",
    "sub[1].scatter(X[:,1], y, c=y, cmap=plt.cm.coolwarm, edgecolors='k')\n",
    "\n",
    "\n",
    "particions = [0.5, 0.7, 0.8]\n",
    "\n",
    "for part in particions:\n",
    "    x_t, x_v, y_t, y_v = train_test_split(X, y, train_size=part)\n",
    "    \n",
    "    #Creacion del regresor logistico \n",
    "    logireg = LogisticRegression(C=2.0, fit_intercept=True, penalty='l2', tol=0.001)\n",
    "\n",
    "    # Entrenamiento\n",
    "    logireg.fit(x_t, y_t)\n",
    "\n",
    "    print (\"Correct classification Logistic \", part, \"% of the data: \", logireg.score(x_v, y_v))\n",
    "    \n",
    "    #Utilizacion de máquinas de vectores de soporte\n",
    "    svc = svm.SVC(C=10.0, kernel='rbf', gamma=0.9, probability=True)\n",
    "\n",
    "    # Entrenamiento \n",
    "    svc.fit(x_t, y_t)\n",
    "    probs = svc.predict_proba(x_v)\n",
    "    print (\"Correct classification SVM      \", part, \"% of the data: \", svc.score(x_v, y_v))\n",
    "\n"
   ]
  },
  {
   "cell_type": "code",
   "execution_count": 166,
   "id": "5ff5f867",
   "metadata": {},
   "outputs": [],
   "source": [
    "import numpy as np\n",
    "import matplotlib.pyplot as plt\n",
    "\n",
    "\n",
    "def make_meshgrid(x, y, h=.02):\n",
    "    \"\"\"Create a mesh of points to plot in\n",
    "\n",
    "    Parameters\n",
    "    ----------\n",
    "    x: data to base x-axis meshgrid on\n",
    "    y: data to base y-axis meshgrid on\n",
    "    h: stepsize for meshgrid, optional\n",
    "\n",
    "    Returns\n",
    "    -------\n",
    "    xx, yy : ndarray\n",
    "    \"\"\"\n",
    "    x_min, x_max = x.min() - 1, x.max() + 1\n",
    "    y_min, y_max = y.min() - 1, y.max() + 1\n",
    "    xx, yy = np.meshgrid(np.arange(x_min, x_max, h),\n",
    "                         np.arange(y_min, y_max, h))\n",
    "    return xx, yy\n",
    "\n",
    "\n",
    "def plot_contours(ax, clf, xx, yy, **params):\n",
    "    \"\"\"Plot the decision boundaries for a classifier.\n",
    "\n",
    "    Parameters\n",
    "    ----------\n",
    "    ax: matplotlib axes object\n",
    "    clf: a classifier\n",
    "    xx: meshgrid ndarray\n",
    "    yy: meshgrid ndarray\n",
    "    params: dictionary of params to pass to contourf, optional\n",
    "    \"\"\"\n",
    "    Z = clf.predict(np.c_[xx.ravel(), yy.ravel()])\n",
    "    Z = Z.reshape(xx.shape)\n",
    "    out = ax.contourf(xx, yy, Z, **params)\n",
    "    return out\n",
    "\n",
    "def show_C_effect(C=1.0, gamma=0.7, degree=3):\n",
    "    # Take the first two features. We could avoid this by using a two-dim dataset\n",
    "    X = data[:, :2]\n",
    "    y = dataset['output']\n",
    "\n",
    "    # we create an instance of SVM and fit out data. We do not scale our\n",
    "    # data since we want to plot the support vectors\n",
    "    # title for the plots\n",
    "    titles = ('KNeighbors Classifier',\n",
    "              'Logistic Regression',\n",
    "              'Decision Tree Classifier',\n",
    "              'Random Forest')\n",
    "\n",
    "    #C = 1.0  # SVM regularization parameter\n",
    "    models = (\n",
    "          KNeighborsClassifier(),\n",
    "          LogisticRegression(max_iter=1000,solver='lbfgs'),\n",
    "          DecisionTreeClassifier(),\n",
    "           RandomForestClassifier(n_estimators=300,random_state=40))\n",
    "              \n",
    "    models = (clf.fit(X, y) for clf in models)\n",
    "\n",
    "    plt.close('all')\n",
    "    fig, sub = plt.subplots(2, 2, figsize=(14,9))\n",
    "    plt.subplots_adjust(wspace=0.4, hspace=0.4)\n",
    "\n",
    "    X0, X1= X[:, 0], X[:, 1]\n",
    "    xx, yy = make_meshgrid(X0, X1)\n",
    "\n",
    "    for clf, title, ax in zip(models, titles, sub.flatten()):\n",
    "        plot_contours(ax, clf, xx, yy,\n",
    "                      cmap=plt.cm.coolwarm, alpha=0.8)\n",
    "        ax.scatter(X0, X1, c=y, cmap=plt.cm.coolwarm, s=20, edgecolors='k')\n",
    "        ax.set_xlim(xx.min(), xx.max())\n",
    "        ax.set_ylim(yy.min(), yy.max())\n",
    "        ax.set_xlabel('Frecuencia cardíaca máxima alcanzada')\n",
    "        ax.set_ylabel('Tipo de dolor en el pecho')\n",
    "        ax.set_xticks(())\n",
    "        ax.set_yticks(())\n",
    "        ax.set_title(title)\n",
    "\n",
    "    plt.show()\n"
   ]
  },
  {
   "cell_type": "code",
   "execution_count": 167,
   "id": "3be4be9b",
   "metadata": {},
   "outputs": [],
   "source": [
    "#Si realizamos variaciones con los numero obtenermos mejores resultados en algunos modelos \n",
    "#pero penalizamos otros.\n",
    "#show_C_effect(C=0.01)"
   ]
  },
  {
   "cell_type": "markdown",
   "id": "f8a6854f",
   "metadata": {},
   "source": [
    "# Apartado A Clasificación Numérica"
   ]
  },
  {
   "cell_type": "markdown",
   "id": "6ff90808",
   "metadata": {},
   "source": [
    "## 1. Implementacion de EDA (exploratory data analysis)"
   ]
  },
  {
   "cell_type": "markdown",
   "id": "3be0ba11",
   "metadata": {},
   "source": [
    "## Información del dataset"
   ]
  },
  {
   "cell_type": "code",
   "execution_count": 168,
   "id": "a84d499c",
   "metadata": {},
   "outputs": [
    {
     "name": "stdout",
     "output_type": "stream",
     "text": [
      "<class 'pandas.core.frame.DataFrame'>\n",
      "RangeIndex: 303 entries, 0 to 302\n",
      "Data columns (total 14 columns):\n",
      " #   Column    Non-Null Count  Dtype  \n",
      "---  ------    --------------  -----  \n",
      " 0   age       303 non-null    int64  \n",
      " 1   sex       303 non-null    int64  \n",
      " 2   cp        303 non-null    int64  \n",
      " 3   trtbps    303 non-null    int64  \n",
      " 4   chol      303 non-null    int64  \n",
      " 5   fbs       303 non-null    int64  \n",
      " 6   restecg   303 non-null    int64  \n",
      " 7   thalachh  303 non-null    int64  \n",
      " 8   exng      303 non-null    int64  \n",
      " 9   oldpeak   303 non-null    float64\n",
      " 10  slp       303 non-null    int64  \n",
      " 11  caa       303 non-null    int64  \n",
      " 12  thall     303 non-null    int64  \n",
      " 13  output    303 non-null    int64  \n",
      "dtypes: float64(1), int64(13)\n",
      "memory usage: 33.3 KB\n"
     ]
    }
   ],
   "source": [
    "dataset.info()"
   ]
  },
  {
   "cell_type": "markdown",
   "id": "06ccc5e7",
   "metadata": {},
   "source": [
    "### Información de los primeros 5 elementos"
   ]
  },
  {
   "cell_type": "code",
   "execution_count": 169,
   "id": "407fe8af",
   "metadata": {},
   "outputs": [
    {
     "data": {
      "text/html": [
       "<div>\n",
       "<style scoped>\n",
       "    .dataframe tbody tr th:only-of-type {\n",
       "        vertical-align: middle;\n",
       "    }\n",
       "\n",
       "    .dataframe tbody tr th {\n",
       "        vertical-align: top;\n",
       "    }\n",
       "\n",
       "    .dataframe thead th {\n",
       "        text-align: right;\n",
       "    }\n",
       "</style>\n",
       "<table border=\"1\" class=\"dataframe\">\n",
       "  <thead>\n",
       "    <tr style=\"text-align: right;\">\n",
       "      <th></th>\n",
       "      <th>age</th>\n",
       "      <th>sex</th>\n",
       "      <th>cp</th>\n",
       "      <th>trtbps</th>\n",
       "      <th>chol</th>\n",
       "      <th>fbs</th>\n",
       "      <th>restecg</th>\n",
       "      <th>thalachh</th>\n",
       "      <th>exng</th>\n",
       "      <th>oldpeak</th>\n",
       "      <th>slp</th>\n",
       "      <th>caa</th>\n",
       "      <th>thall</th>\n",
       "      <th>output</th>\n",
       "    </tr>\n",
       "  </thead>\n",
       "  <tbody>\n",
       "    <tr>\n",
       "      <th>0</th>\n",
       "      <td>63</td>\n",
       "      <td>1</td>\n",
       "      <td>3</td>\n",
       "      <td>145</td>\n",
       "      <td>233</td>\n",
       "      <td>1</td>\n",
       "      <td>0</td>\n",
       "      <td>150</td>\n",
       "      <td>0</td>\n",
       "      <td>2.300</td>\n",
       "      <td>0</td>\n",
       "      <td>0</td>\n",
       "      <td>1</td>\n",
       "      <td>1</td>\n",
       "    </tr>\n",
       "    <tr>\n",
       "      <th>1</th>\n",
       "      <td>37</td>\n",
       "      <td>1</td>\n",
       "      <td>2</td>\n",
       "      <td>130</td>\n",
       "      <td>250</td>\n",
       "      <td>0</td>\n",
       "      <td>1</td>\n",
       "      <td>187</td>\n",
       "      <td>0</td>\n",
       "      <td>3.500</td>\n",
       "      <td>0</td>\n",
       "      <td>0</td>\n",
       "      <td>2</td>\n",
       "      <td>1</td>\n",
       "    </tr>\n",
       "    <tr>\n",
       "      <th>2</th>\n",
       "      <td>41</td>\n",
       "      <td>0</td>\n",
       "      <td>1</td>\n",
       "      <td>130</td>\n",
       "      <td>204</td>\n",
       "      <td>0</td>\n",
       "      <td>0</td>\n",
       "      <td>172</td>\n",
       "      <td>0</td>\n",
       "      <td>1.400</td>\n",
       "      <td>2</td>\n",
       "      <td>0</td>\n",
       "      <td>2</td>\n",
       "      <td>1</td>\n",
       "    </tr>\n",
       "    <tr>\n",
       "      <th>3</th>\n",
       "      <td>56</td>\n",
       "      <td>1</td>\n",
       "      <td>1</td>\n",
       "      <td>120</td>\n",
       "      <td>236</td>\n",
       "      <td>0</td>\n",
       "      <td>1</td>\n",
       "      <td>178</td>\n",
       "      <td>0</td>\n",
       "      <td>0.800</td>\n",
       "      <td>2</td>\n",
       "      <td>0</td>\n",
       "      <td>2</td>\n",
       "      <td>1</td>\n",
       "    </tr>\n",
       "    <tr>\n",
       "      <th>4</th>\n",
       "      <td>57</td>\n",
       "      <td>0</td>\n",
       "      <td>0</td>\n",
       "      <td>120</td>\n",
       "      <td>354</td>\n",
       "      <td>0</td>\n",
       "      <td>1</td>\n",
       "      <td>163</td>\n",
       "      <td>1</td>\n",
       "      <td>0.600</td>\n",
       "      <td>2</td>\n",
       "      <td>0</td>\n",
       "      <td>2</td>\n",
       "      <td>1</td>\n",
       "    </tr>\n",
       "  </tbody>\n",
       "</table>\n",
       "</div>"
      ],
      "text/plain": [
       "   age  sex  cp  trtbps  chol  fbs  restecg  thalachh  exng  oldpeak  slp  \\\n",
       "0   63    1   3     145   233    1        0       150     0    2.300    0   \n",
       "1   37    1   2     130   250    0        1       187     0    3.500    0   \n",
       "2   41    0   1     130   204    0        0       172     0    1.400    2   \n",
       "3   56    1   1     120   236    0        1       178     0    0.800    2   \n",
       "4   57    0   0     120   354    0        1       163     1    0.600    2   \n",
       "\n",
       "   caa  thall  output  \n",
       "0    0      1       1  \n",
       "1    0      2       1  \n",
       "2    0      2       1  \n",
       "3    0      2       1  \n",
       "4    0      2       1  "
      ]
     },
     "execution_count": 169,
     "metadata": {},
     "output_type": "execute_result"
    }
   ],
   "source": [
    "dataset.head(5)"
   ]
  },
  {
   "cell_type": "markdown",
   "id": "8a914de3",
   "metadata": {},
   "source": [
    "### Estadística de los datos\n"
   ]
  },
  {
   "cell_type": "code",
   "execution_count": 170,
   "id": "e45a55aa",
   "metadata": {},
   "outputs": [
    {
     "data": {
      "text/html": [
       "<div>\n",
       "<style scoped>\n",
       "    .dataframe tbody tr th:only-of-type {\n",
       "        vertical-align: middle;\n",
       "    }\n",
       "\n",
       "    .dataframe tbody tr th {\n",
       "        vertical-align: top;\n",
       "    }\n",
       "\n",
       "    .dataframe thead th {\n",
       "        text-align: right;\n",
       "    }\n",
       "</style>\n",
       "<table border=\"1\" class=\"dataframe\">\n",
       "  <thead>\n",
       "    <tr style=\"text-align: right;\">\n",
       "      <th></th>\n",
       "      <th>age</th>\n",
       "      <th>sex</th>\n",
       "      <th>cp</th>\n",
       "      <th>trtbps</th>\n",
       "      <th>chol</th>\n",
       "      <th>fbs</th>\n",
       "      <th>restecg</th>\n",
       "      <th>thalachh</th>\n",
       "      <th>exng</th>\n",
       "      <th>oldpeak</th>\n",
       "      <th>slp</th>\n",
       "      <th>caa</th>\n",
       "      <th>thall</th>\n",
       "      <th>output</th>\n",
       "    </tr>\n",
       "  </thead>\n",
       "  <tbody>\n",
       "    <tr>\n",
       "      <th>count</th>\n",
       "      <td>303.000</td>\n",
       "      <td>303.000</td>\n",
       "      <td>303.000</td>\n",
       "      <td>303.000</td>\n",
       "      <td>303.000</td>\n",
       "      <td>303.000</td>\n",
       "      <td>303.000</td>\n",
       "      <td>303.000</td>\n",
       "      <td>303.000</td>\n",
       "      <td>303.000</td>\n",
       "      <td>303.000</td>\n",
       "      <td>303.000</td>\n",
       "      <td>303.000</td>\n",
       "      <td>303.000</td>\n",
       "    </tr>\n",
       "    <tr>\n",
       "      <th>mean</th>\n",
       "      <td>54.366</td>\n",
       "      <td>0.683</td>\n",
       "      <td>0.967</td>\n",
       "      <td>131.624</td>\n",
       "      <td>246.264</td>\n",
       "      <td>0.149</td>\n",
       "      <td>0.528</td>\n",
       "      <td>149.647</td>\n",
       "      <td>0.327</td>\n",
       "      <td>1.040</td>\n",
       "      <td>1.399</td>\n",
       "      <td>0.729</td>\n",
       "      <td>2.314</td>\n",
       "      <td>0.545</td>\n",
       "    </tr>\n",
       "    <tr>\n",
       "      <th>std</th>\n",
       "      <td>9.082</td>\n",
       "      <td>0.466</td>\n",
       "      <td>1.032</td>\n",
       "      <td>17.538</td>\n",
       "      <td>51.831</td>\n",
       "      <td>0.356</td>\n",
       "      <td>0.526</td>\n",
       "      <td>22.905</td>\n",
       "      <td>0.470</td>\n",
       "      <td>1.161</td>\n",
       "      <td>0.616</td>\n",
       "      <td>1.023</td>\n",
       "      <td>0.612</td>\n",
       "      <td>0.499</td>\n",
       "    </tr>\n",
       "    <tr>\n",
       "      <th>min</th>\n",
       "      <td>29.000</td>\n",
       "      <td>0.000</td>\n",
       "      <td>0.000</td>\n",
       "      <td>94.000</td>\n",
       "      <td>126.000</td>\n",
       "      <td>0.000</td>\n",
       "      <td>0.000</td>\n",
       "      <td>71.000</td>\n",
       "      <td>0.000</td>\n",
       "      <td>0.000</td>\n",
       "      <td>0.000</td>\n",
       "      <td>0.000</td>\n",
       "      <td>0.000</td>\n",
       "      <td>0.000</td>\n",
       "    </tr>\n",
       "    <tr>\n",
       "      <th>25%</th>\n",
       "      <td>47.500</td>\n",
       "      <td>0.000</td>\n",
       "      <td>0.000</td>\n",
       "      <td>120.000</td>\n",
       "      <td>211.000</td>\n",
       "      <td>0.000</td>\n",
       "      <td>0.000</td>\n",
       "      <td>133.500</td>\n",
       "      <td>0.000</td>\n",
       "      <td>0.000</td>\n",
       "      <td>1.000</td>\n",
       "      <td>0.000</td>\n",
       "      <td>2.000</td>\n",
       "      <td>0.000</td>\n",
       "    </tr>\n",
       "    <tr>\n",
       "      <th>50%</th>\n",
       "      <td>55.000</td>\n",
       "      <td>1.000</td>\n",
       "      <td>1.000</td>\n",
       "      <td>130.000</td>\n",
       "      <td>240.000</td>\n",
       "      <td>0.000</td>\n",
       "      <td>1.000</td>\n",
       "      <td>153.000</td>\n",
       "      <td>0.000</td>\n",
       "      <td>0.800</td>\n",
       "      <td>1.000</td>\n",
       "      <td>0.000</td>\n",
       "      <td>2.000</td>\n",
       "      <td>1.000</td>\n",
       "    </tr>\n",
       "    <tr>\n",
       "      <th>75%</th>\n",
       "      <td>61.000</td>\n",
       "      <td>1.000</td>\n",
       "      <td>2.000</td>\n",
       "      <td>140.000</td>\n",
       "      <td>274.500</td>\n",
       "      <td>0.000</td>\n",
       "      <td>1.000</td>\n",
       "      <td>166.000</td>\n",
       "      <td>1.000</td>\n",
       "      <td>1.600</td>\n",
       "      <td>2.000</td>\n",
       "      <td>1.000</td>\n",
       "      <td>3.000</td>\n",
       "      <td>1.000</td>\n",
       "    </tr>\n",
       "    <tr>\n",
       "      <th>max</th>\n",
       "      <td>77.000</td>\n",
       "      <td>1.000</td>\n",
       "      <td>3.000</td>\n",
       "      <td>200.000</td>\n",
       "      <td>564.000</td>\n",
       "      <td>1.000</td>\n",
       "      <td>2.000</td>\n",
       "      <td>202.000</td>\n",
       "      <td>1.000</td>\n",
       "      <td>6.200</td>\n",
       "      <td>2.000</td>\n",
       "      <td>4.000</td>\n",
       "      <td>3.000</td>\n",
       "      <td>1.000</td>\n",
       "    </tr>\n",
       "  </tbody>\n",
       "</table>\n",
       "</div>"
      ],
      "text/plain": [
       "          age     sex      cp  trtbps    chol     fbs  restecg  thalachh  \\\n",
       "count 303.000 303.000 303.000 303.000 303.000 303.000  303.000   303.000   \n",
       "mean   54.366   0.683   0.967 131.624 246.264   0.149    0.528   149.647   \n",
       "std     9.082   0.466   1.032  17.538  51.831   0.356    0.526    22.905   \n",
       "min    29.000   0.000   0.000  94.000 126.000   0.000    0.000    71.000   \n",
       "25%    47.500   0.000   0.000 120.000 211.000   0.000    0.000   133.500   \n",
       "50%    55.000   1.000   1.000 130.000 240.000   0.000    1.000   153.000   \n",
       "75%    61.000   1.000   2.000 140.000 274.500   0.000    1.000   166.000   \n",
       "max    77.000   1.000   3.000 200.000 564.000   1.000    2.000   202.000   \n",
       "\n",
       "         exng  oldpeak     slp     caa   thall  output  \n",
       "count 303.000  303.000 303.000 303.000 303.000 303.000  \n",
       "mean    0.327    1.040   1.399   0.729   2.314   0.545  \n",
       "std     0.470    1.161   0.616   1.023   0.612   0.499  \n",
       "min     0.000    0.000   0.000   0.000   0.000   0.000  \n",
       "25%     0.000    0.000   1.000   0.000   2.000   0.000  \n",
       "50%     0.000    0.800   1.000   0.000   2.000   1.000  \n",
       "75%     1.000    1.600   2.000   1.000   3.000   1.000  \n",
       "max     1.000    6.200   2.000   4.000   3.000   1.000  "
      ]
     },
     "execution_count": 170,
     "metadata": {},
     "output_type": "execute_result"
    }
   ],
   "source": [
    "dataset.describe()"
   ]
  },
  {
   "cell_type": "markdown",
   "id": "5cb13502",
   "metadata": {},
   "source": [
    "### Dimensión del dataframe\n"
   ]
  },
  {
   "cell_type": "code",
   "execution_count": 171,
   "id": "8c56f509",
   "metadata": {},
   "outputs": [
    {
     "data": {
      "text/plain": [
       "(303, 14)"
      ]
     },
     "execution_count": 171,
     "metadata": {},
     "output_type": "execute_result"
    }
   ],
   "source": [
    "dataset.shape"
   ]
  },
  {
   "cell_type": "markdown",
   "id": "5f6fc137",
   "metadata": {},
   "source": [
    "## Exploración de datos"
   ]
  },
  {
   "cell_type": "markdown",
   "id": "223040a5",
   "metadata": {},
   "source": [
    "#### Frecuencia de padecer del corazon según el edad"
   ]
  },
  {
   "cell_type": "code",
   "execution_count": 172,
   "id": "df849c9d",
   "metadata": {},
   "outputs": [
    {
     "data": {
      "text/plain": [
       "<AxesSubplot:xlabel='age', ylabel='output'>"
      ]
     },
     "execution_count": 172,
     "metadata": {},
     "output_type": "execute_result"
    },
    {
     "data": {
      "image/png": "[encoded data removed]",
      "text/plain": [
       "<Figure size 1080x576 with 1 Axes>"
      ]
     },
     "metadata": {
      "needs_background": "light"
     },
     "output_type": "display_data"
    }
   ],
   "source": [
    "fig_dims = (15, 8)\n",
    "fig, ax = plt.subplots(figsize=fig_dims)\n",
    "sns.barplot(dataset['age'],dataset['output'],ax=ax)\n",
    "\n"
   ]
  },
  {
   "cell_type": "markdown",
   "id": "a6d2467f",
   "metadata": {},
   "source": [
    "#### Frecuencia cardíaca máxima alcanzada segun la edad"
   ]
  },
  {
   "cell_type": "code",
   "execution_count": 173,
   "id": "2c9c293d",
   "metadata": {},
   "outputs": [
    {
     "data": {
      "image/png": "[encoded data removed]",
      "text/plain": [
       "<Figure size 720x360 with 1 Axes>"
      ]
     },
     "metadata": {
      "needs_background": "light"
     },
     "output_type": "display_data"
    }
   ],
   "source": [
    "plt.subplots(figsize=(10, 5))\n",
    "plt.scatter(x=dataset.age[dataset.output==1], y=dataset.thalachh[(dataset.output==1)], c=\"red\")\n",
    "plt.scatter(x=dataset.age[dataset.output==0], y=dataset.thalachh[(dataset.output==0)], c=\"green\")\n",
    "plt.legend([\"Padece de enfermedad\", \"No padece de enfermedad\"])\n",
    "plt.xlabel(\"Edad\")\n",
    "plt.ylabel(\"Frecuencia cardíaca máxima alcanzada\")\n",
    "plt.show()"
   ]
  },
  {
   "cell_type": "markdown",
   "id": "4e20c1cd",
   "metadata": {},
   "source": [
    "#### Frecuencia de padecer del corazon según el sexo"
   ]
  },
  {
   "cell_type": "code",
   "execution_count": 174,
   "id": "845d4cf2",
   "metadata": {},
   "outputs": [
    {
     "data": {
      "image/png": "[encoded data removed]",
      "text/plain": [
       "<Figure size 720x432 with 1 Axes>"
      ]
     },
     "metadata": {
      "needs_background": "light"
     },
     "output_type": "display_data"
    }
   ],
   "source": [
    "pd.crosstab(dataset.sex,dataset.output).plot(kind=\"bar\",figsize=(10,6),color=['#67a1cf','#e3a6c3' ])\n",
    "plt.title('Frecuencia de enfermedad cardíaca segun el sexo')\n",
    "plt.xlabel('Sexo [0:Femenino, 1: Maculino]')\n",
    "plt.legend([\"No padece de enfermedad\", \"Padece de enfermedad\"])\n",
    "plt.ylabel('Frecuecia')\n",
    "plt.show()"
   ]
  },
  {
   "cell_type": "markdown",
   "id": "004c3cb6",
   "metadata": {},
   "source": [
    "#### Frecuencia de padecer del corazon según el tipo de dolor en el pecho"
   ]
  },
  {
   "cell_type": "code",
   "execution_count": 175,
   "id": "bfd06298",
   "metadata": {},
   "outputs": [
    {
     "data": {
      "image/png": "[encoded data removed]",
      "text/plain": [
       "<Figure size 1080x432 with 1 Axes>"
      ]
     },
     "metadata": {
      "needs_background": "light"
     },
     "output_type": "display_data"
    }
   ],
   "source": [
    "pd.crosstab(dataset.cp,dataset.output).plot(kind=\"bar\",figsize=(15,6),color=['#ca6457','#6f2923' ])\n",
    "plt.title('Frecuencia de padecer del corazon según el tipo de dolor en el pecho')\n",
    "plt.legend([\"No padece de enfermedad\", \"Padece de enfermedad\"])\n",
    "plt.xlabel('Tipo de dolor en el pecho [0:typical angina, 1:atypical angina, 2:non-anginal pain, 3:asymptomatic]')\n",
    "plt.xticks(rotation = 0)\n",
    "plt.ylabel('Frequencia de padecer la enfermedad o no')\n",
    "plt.show()"
   ]
  },
  {
   "cell_type": "markdown",
   "id": "bca62d5f",
   "metadata": {},
   "source": [
    "#### Frecuencia de padecer del corazon según el nivel de azucar en sangre"
   ]
  },
  {
   "cell_type": "code",
   "execution_count": 176,
   "id": "35c6397c",
   "metadata": {},
   "outputs": [
    {
     "data": {
      "image/png": "[encoded data removed]",
      "text/plain": [
       "<Figure size 1080x432 with 1 Axes>"
      ]
     },
     "metadata": {
      "needs_background": "light"
     },
     "output_type": "display_data"
    }
   ],
   "source": [
    "pd.crosstab(dataset.fbs,dataset.output).plot(kind=\"bar\",figsize=(15,6),color=['#6ad0a6','#226d5c' ])\n",
    "plt.title('Frecuencia de padecer del corazon según el nivel de azucar en sangre')\n",
    "plt.legend([\"No padece de enfermedad\", \"Padece de enfermedad\"])\n",
    "plt.xlabel('Nivel de azucar en sangre [0: > 120 mg/dl]')\n",
    "plt.xticks(rotation = 0)\n",
    "plt.ylabel('Frequencia de padecer la enfermedad o no')\n",
    "plt.show()"
   ]
  },
  {
   "cell_type": "markdown",
   "id": "11f86688",
   "metadata": {},
   "source": [
    "#### Frecuencia de padecer del corazon según resultados electrocardiográficos en reposo"
   ]
  },
  {
   "cell_type": "code",
   "execution_count": 177,
   "id": "3dbfe2b2",
   "metadata": {},
   "outputs": [
    {
     "data": {
      "image/png": "[encoded data removed]",
      "text/plain": [
       "<Figure size 1080x432 with 1 Axes>"
      ]
     },
     "metadata": {
      "needs_background": "light"
     },
     "output_type": "display_data"
    }
   ],
   "source": [
    "pd.crosstab(dataset.restecg,dataset.output).plot(kind=\"bar\",figsize=(15,6),color=['#7a5dcc','#412168' ])\n",
    "plt.title('Frecuencia de padecer del corazon según resultados electrocardiográficos en reposo')\n",
    "plt.legend([\"No padece de enfermedad\", \"Padece de enfermedad\"])\n",
    "plt.xlabel('Tipo de resultados')\n",
    "plt.xticks(rotation = 0)\n",
    "plt.ylabel('Frequencia de padecer la enfermedad o no')\n",
    "plt.show()"
   ]
  },
  {
   "cell_type": "markdown",
   "id": "ed654740",
   "metadata": {},
   "source": [
    "### Frecuencia de padecer del corazon según Talisemia"
   ]
  },
  {
   "cell_type": "code",
   "execution_count": 178,
   "id": "db19b909",
   "metadata": {},
   "outputs": [
    {
     "data": {
      "image/png": "[encoded data removed]",
      "text/plain": [
       "<Figure size 1080x432 with 1 Axes>"
      ]
     },
     "metadata": {
      "needs_background": "light"
     },
     "output_type": "display_data"
    }
   ],
   "source": [
    "pd.crosstab(dataset.thall,dataset.output).plot(kind=\"bar\",figsize=(15,6),color=['#b8df9b','#4d5e1e' ])\n",
    "plt.title('Frecuencia de padecer del corazon según tipo de Talasemia')\n",
    "plt.legend([\"No padece de enfermedad\", \"Padece de enfermedad\"])\n",
    "plt.xlabel('Tipo de Talasemia')\n",
    "plt.xticks(rotation = 0)\n",
    "plt.ylabel('Frequencia de padecer la enfermedad o no')\n",
    "plt.show()"
   ]
  },
  {
   "cell_type": "markdown",
   "id": "22da7bb5",
   "metadata": {},
   "source": [
    "### Analisis de Multivariables"
   ]
  },
  {
   "cell_type": "code",
   "execution_count": 179,
   "id": "92ed5508",
   "metadata": {},
   "outputs": [
    {
     "data": {
      "text/plain": [
       "array([[<AxesSubplot:title={'center':'age'}>,\n",
       "        <AxesSubplot:title={'center':'sex'}>,\n",
       "        <AxesSubplot:title={'center':'cp'}>,\n",
       "        <AxesSubplot:title={'center':'trtbps'}>],\n",
       "       [<AxesSubplot:title={'center':'chol'}>,\n",
       "        <AxesSubplot:title={'center':'fbs'}>,\n",
       "        <AxesSubplot:title={'center':'restecg'}>,\n",
       "        <AxesSubplot:title={'center':'thalachh'}>],\n",
       "       [<AxesSubplot:title={'center':'exng'}>,\n",
       "        <AxesSubplot:title={'center':'oldpeak'}>,\n",
       "        <AxesSubplot:title={'center':'slp'}>,\n",
       "        <AxesSubplot:title={'center':'caa'}>],\n",
       "       [<AxesSubplot:title={'center':'thall'}>,\n",
       "        <AxesSubplot:title={'center':'output'}>, <AxesSubplot:>,\n",
       "        <AxesSubplot:>]], dtype=object)"
      ]
     },
     "execution_count": 179,
     "metadata": {},
     "output_type": "execute_result"
    },
    {
     "data": {
      "image/png": "[encoded data removed]",
      "text/plain": [
       "<Figure size 1080x720 with 16 Axes>"
      ]
     },
     "metadata": {
      "needs_background": "light"
     },
     "output_type": "display_data"
    }
   ],
   "source": [
    "dataset.hist(figsize=(15,10))"
   ]
  },
  {
   "cell_type": "code",
   "execution_count": 180,
   "id": "36d9bcfe",
   "metadata": {},
   "outputs": [],
   "source": [
    "#sns.pairplot(dataset, hue='output', diag_kind = \"kde\", kind = \"scatter\", palette = \"husl\")"
   ]
  },
  {
   "cell_type": "markdown",
   "id": "1433aa81",
   "metadata": {},
   "source": [
    "### Correlación de los atributos"
   ]
  },
  {
   "cell_type": "code",
   "execution_count": 181,
   "id": "331ea88c",
   "metadata": {},
   "outputs": [
    {
     "data": {
      "text/plain": [
       "<AxesSubplot:>"
      ]
     },
     "execution_count": 181,
     "metadata": {},
     "output_type": "execute_result"
    },
    {
     "data": {
      "image/png": "[encoded data removed]",
      "text/plain": [
       "<Figure size 720x720 with 2 Axes>"
      ]
     },
     "metadata": {
      "needs_background": "light"
     },
     "output_type": "display_data"
    }
   ],
   "source": [
    "correlacion = dataset.iloc[:].corr()\n",
    "fig , ax = plt.subplots()\n",
    "fig.set_figwidth(10)\n",
    "fig.set_figheight(10)\n",
    "sns.heatmap(correlacion,annot=True,cmap=\"Oranges\")"
   ]
  },
  {
   "cell_type": "code",
   "execution_count": 182,
   "id": "07029776",
   "metadata": {},
   "outputs": [
    {
     "data": {
      "text/html": [
       "<style type=\"text/css\">\n",
       "#T_5813a_row0_col0 {\n",
       "  background-color: #67000d;\n",
       "  color: #f1f1f1;\n",
       "}\n",
       "#T_5813a_row1_col0 {\n",
       "  background-color: #f14130;\n",
       "  color: #f1f1f1;\n",
       "}\n",
       "#T_5813a_row2_col0 {\n",
       "  background-color: #f24633;\n",
       "  color: #f1f1f1;\n",
       "}\n",
       "#T_5813a_row3_col0 {\n",
       "  background-color: #f7593f;\n",
       "  color: #f1f1f1;\n",
       "}\n",
       "#T_5813a_row4_col0 {\n",
       "  background-color: #fc8a6a;\n",
       "  color: #f1f1f1;\n",
       "}\n",
       "#T_5813a_row5_col0 {\n",
       "  background-color: #fcb095;\n",
       "  color: #000000;\n",
       "}\n",
       "#T_5813a_row6_col0 {\n",
       "  background-color: #fcbda4;\n",
       "  color: #000000;\n",
       "}\n",
       "#T_5813a_row7_col0 {\n",
       "  background-color: #fdcab5;\n",
       "  color: #000000;\n",
       "}\n",
       "#T_5813a_row8_col0 {\n",
       "  background-color: #fedaca;\n",
       "  color: #000000;\n",
       "}\n",
       "#T_5813a_row9_col0 {\n",
       "  background-color: #fee3d7;\n",
       "  color: #000000;\n",
       "}\n",
       "#T_5813a_row10_col0 {\n",
       "  background-color: #feeae1;\n",
       "  color: #000000;\n",
       "}\n",
       "#T_5813a_row11_col0 {\n",
       "  background-color: #fff0e8;\n",
       "  color: #000000;\n",
       "}\n",
       "#T_5813a_row12_col0 {\n",
       "  background-color: #fff4ef;\n",
       "  color: #000000;\n",
       "}\n",
       "#T_5813a_row13_col0 {\n",
       "  background-color: #fff5f0;\n",
       "  color: #000000;\n",
       "}\n",
       "</style>\n",
       "<table id=\"T_5813a_\">\n",
       "  <thead>\n",
       "    <tr>\n",
       "      <th class=\"blank level0\" >&nbsp;</th>\n",
       "      <th class=\"col_heading level0 col0\" >output</th>\n",
       "    </tr>\n",
       "  </thead>\n",
       "  <tbody>\n",
       "    <tr>\n",
       "      <th id=\"T_5813a_level0_row0\" class=\"row_heading level0 row0\" >output</th>\n",
       "      <td id=\"T_5813a_row0_col0\" class=\"data row0 col0\" >1.000000</td>\n",
       "    </tr>\n",
       "    <tr>\n",
       "      <th id=\"T_5813a_level0_row1\" class=\"row_heading level0 row1\" >cp</th>\n",
       "      <td id=\"T_5813a_row1_col0\" class=\"data row1 col0\" >0.433798</td>\n",
       "    </tr>\n",
       "    <tr>\n",
       "      <th id=\"T_5813a_level0_row2\" class=\"row_heading level0 row2\" >thalachh</th>\n",
       "      <td id=\"T_5813a_row2_col0\" class=\"data row2 col0\" >0.421741</td>\n",
       "    </tr>\n",
       "    <tr>\n",
       "      <th id=\"T_5813a_level0_row3\" class=\"row_heading level0 row3\" >slp</th>\n",
       "      <td id=\"T_5813a_row3_col0\" class=\"data row3 col0\" >0.345877</td>\n",
       "    </tr>\n",
       "    <tr>\n",
       "      <th id=\"T_5813a_level0_row4\" class=\"row_heading level0 row4\" >restecg</th>\n",
       "      <td id=\"T_5813a_row4_col0\" class=\"data row4 col0\" >0.137230</td>\n",
       "    </tr>\n",
       "    <tr>\n",
       "      <th id=\"T_5813a_level0_row5\" class=\"row_heading level0 row5\" >fbs</th>\n",
       "      <td id=\"T_5813a_row5_col0\" class=\"data row5 col0\" >-0.028046</td>\n",
       "    </tr>\n",
       "    <tr>\n",
       "      <th id=\"T_5813a_level0_row6\" class=\"row_heading level0 row6\" >chol</th>\n",
       "      <td id=\"T_5813a_row6_col0\" class=\"data row6 col0\" >-0.085239</td>\n",
       "    </tr>\n",
       "    <tr>\n",
       "      <th id=\"T_5813a_level0_row7\" class=\"row_heading level0 row7\" >trtbps</th>\n",
       "      <td id=\"T_5813a_row7_col0\" class=\"data row7 col0\" >-0.144931</td>\n",
       "    </tr>\n",
       "    <tr>\n",
       "      <th id=\"T_5813a_level0_row8\" class=\"row_heading level0 row8\" >age</th>\n",
       "      <td id=\"T_5813a_row8_col0\" class=\"data row8 col0\" >-0.225439</td>\n",
       "    </tr>\n",
       "    <tr>\n",
       "      <th id=\"T_5813a_level0_row9\" class=\"row_heading level0 row9\" >sex</th>\n",
       "      <td id=\"T_5813a_row9_col0\" class=\"data row9 col0\" >-0.280937</td>\n",
       "    </tr>\n",
       "    <tr>\n",
       "      <th id=\"T_5813a_level0_row10\" class=\"row_heading level0 row10\" >thall</th>\n",
       "      <td id=\"T_5813a_row10_col0\" class=\"data row10 col0\" >-0.344029</td>\n",
       "    </tr>\n",
       "    <tr>\n",
       "      <th id=\"T_5813a_level0_row11\" class=\"row_heading level0 row11\" >caa</th>\n",
       "      <td id=\"T_5813a_row11_col0\" class=\"data row11 col0\" >-0.391724</td>\n",
       "    </tr>\n",
       "    <tr>\n",
       "      <th id=\"T_5813a_level0_row12\" class=\"row_heading level0 row12\" >oldpeak</th>\n",
       "      <td id=\"T_5813a_row12_col0\" class=\"data row12 col0\" >-0.430696</td>\n",
       "    </tr>\n",
       "    <tr>\n",
       "      <th id=\"T_5813a_level0_row13\" class=\"row_heading level0 row13\" >exng</th>\n",
       "      <td id=\"T_5813a_row13_col0\" class=\"data row13 col0\" >-0.436757</td>\n",
       "    </tr>\n",
       "  </tbody>\n",
       "</table>\n"
      ],
      "text/plain": [
       "<pandas.io.formats.style.Styler at 0x24d83e3e4f0>"
      ]
     },
     "execution_count": 182,
     "metadata": {},
     "output_type": "execute_result"
    }
   ],
   "source": [
    "# Corelation with target\n",
    "\n",
    "corr = dataset.corr()\n",
    "pd.DataFrame(corr['output']).sort_values(by='output',ascending = False).style.background_gradient(cmap = 'Reds')"
   ]
  },
  {
   "cell_type": "markdown",
   "id": "dd1a7fef",
   "metadata": {},
   "source": [
    "## 2. Preprocessing"
   ]
  },
  {
   "cell_type": "markdown",
   "id": "c18feaba",
   "metadata": {},
   "source": [
    "### Valores Nulos"
   ]
  },
  {
   "cell_type": "code",
   "execution_count": 183,
   "id": "592b3feb",
   "metadata": {},
   "outputs": [
    {
     "data": {
      "text/plain": [
       "<AxesSubplot:>"
      ]
     },
     "execution_count": 183,
     "metadata": {},
     "output_type": "execute_result"
    },
    {
     "data": {
      "image/png": "[encoded data removed]",
      "text/plain": [
       "<Figure size 720x432 with 2 Axes>"
      ]
     },
     "metadata": {
      "needs_background": "light"
     },
     "output_type": "display_data"
    }
   ],
   "source": [
    "fig_dims = (10, 6)\n",
    "fig, ax = plt.subplots(figsize=fig_dims)\n",
    "sns.heatmap(dataset.isnull(),cmap=\"coolwarm\",ax=ax)"
   ]
  },
  {
   "cell_type": "markdown",
   "id": "17b78d5d",
   "metadata": {},
   "source": [
    "#### Eliminacion de los valores nulos"
   ]
  },
  {
   "cell_type": "code",
   "execution_count": 184,
   "id": "db143e5f",
   "metadata": {},
   "outputs": [
    {
     "name": "stdout",
     "output_type": "stream",
     "text": [
      "Columns containing nan values:Index([], dtype='object')\n"
     ]
    }
   ],
   "source": [
    "def columns_with_na(dframe):\n",
    "    temp = dframe.isna().sum()\n",
    "    temp = temp[temp >0]\n",
    "    print(f\"Columns containing nan values:{temp.index}\")\n",
    "    return temp.index\n",
    "\n",
    "columns_to_drop = list(columns_with_na(dataset))\n",
    "dataset.drop(columns_to_drop, axis=1, inplace = True)"
   ]
  },
  {
   "cell_type": "markdown",
   "id": "cf7dc7ff",
   "metadata": {},
   "source": [
    "### Visualizacion de valores atípicos"
   ]
  },
  {
   "cell_type": "code",
   "execution_count": 185,
   "id": "f9d957b2",
   "metadata": {},
   "outputs": [
    {
     "data": {
      "text/html": [
       "<div>\n",
       "<style scoped>\n",
       "    .dataframe tbody tr th:only-of-type {\n",
       "        vertical-align: middle;\n",
       "    }\n",
       "\n",
       "    .dataframe tbody tr th {\n",
       "        vertical-align: top;\n",
       "    }\n",
       "\n",
       "    .dataframe thead th {\n",
       "        text-align: right;\n",
       "    }\n",
       "</style>\n",
       "<table border=\"1\" class=\"dataframe\">\n",
       "  <thead>\n",
       "    <tr style=\"text-align: right;\">\n",
       "      <th></th>\n",
       "      <th>age</th>\n",
       "      <th>sex</th>\n",
       "      <th>cp</th>\n",
       "      <th>trtbps</th>\n",
       "      <th>chol</th>\n",
       "      <th>fbs</th>\n",
       "      <th>restecg</th>\n",
       "      <th>thalachh</th>\n",
       "      <th>exng</th>\n",
       "      <th>oldpeak</th>\n",
       "      <th>slp</th>\n",
       "      <th>caa</th>\n",
       "      <th>thall</th>\n",
       "      <th>output</th>\n",
       "    </tr>\n",
       "  </thead>\n",
       "  <tbody>\n",
       "    <tr>\n",
       "      <th>164</th>\n",
       "      <td>38</td>\n",
       "      <td>1</td>\n",
       "      <td>2</td>\n",
       "      <td>138</td>\n",
       "      <td>175</td>\n",
       "      <td>0</td>\n",
       "      <td>1</td>\n",
       "      <td>173</td>\n",
       "      <td>0</td>\n",
       "      <td>0.000</td>\n",
       "      <td>2</td>\n",
       "      <td>4</td>\n",
       "      <td>2</td>\n",
       "      <td>1</td>\n",
       "    </tr>\n",
       "  </tbody>\n",
       "</table>\n",
       "</div>"
      ],
      "text/plain": [
       "     age  sex  cp  trtbps  chol  fbs  restecg  thalachh  exng  oldpeak  slp  \\\n",
       "164   38    1   2     138   175    0        1       173     0    0.000    2   \n",
       "\n",
       "     caa  thall  output  \n",
       "164    4      2       1  "
      ]
     },
     "execution_count": 185,
     "metadata": {},
     "output_type": "execute_result"
    }
   ],
   "source": [
    "#Eliminacion de datos duplicados\n",
    "dataset[dataset.duplicated() == True]"
   ]
  },
  {
   "cell_type": "code",
   "execution_count": 186,
   "id": "76fadb47",
   "metadata": {},
   "outputs": [],
   "source": [
    "dataset.drop_duplicates(inplace = True)"
   ]
  },
  {
   "cell_type": "code",
   "execution_count": 187,
   "id": "a5fcf460",
   "metadata": {},
   "outputs": [
    {
     "data": {
      "image/png": "[encoded data removed]",
      "text/plain": [
       "<Figure size 720x720 with 14 Axes>"
      ]
     },
     "metadata": {
      "needs_background": "light"
     },
     "output_type": "display_data"
    }
   ],
   "source": [
    "fig, ax = plt.subplots(ncols = 7, nrows = 2, figsize = (10, 10))\n",
    "index = 0\n",
    "ax = ax.flatten()\n",
    "\n",
    "for col, value in dataset.items():\n",
    "    sns.boxplot(y=col, data=dataset, ax=ax[index])\n",
    "    index += 1\n",
    "plt.tight_layout(pad = 0.5, w_pad=0.7, h_pad=5.0)"
   ]
  },
  {
   "cell_type": "code",
   "execution_count": 188,
   "id": "89652c3d",
   "metadata": {},
   "outputs": [
    {
     "data": {
      "text/html": [
       "<div>\n",
       "<style scoped>\n",
       "    .dataframe tbody tr th:only-of-type {\n",
       "        vertical-align: middle;\n",
       "    }\n",
       "\n",
       "    .dataframe tbody tr th {\n",
       "        vertical-align: top;\n",
       "    }\n",
       "\n",
       "    .dataframe thead th {\n",
       "        text-align: right;\n",
       "    }\n",
       "</style>\n",
       "<table border=\"1\" class=\"dataframe\">\n",
       "  <thead>\n",
       "    <tr style=\"text-align: right;\">\n",
       "      <th></th>\n",
       "      <th>age</th>\n",
       "      <th>sex</th>\n",
       "      <th>cp</th>\n",
       "      <th>trtbps</th>\n",
       "      <th>chol</th>\n",
       "      <th>fbs</th>\n",
       "      <th>restecg</th>\n",
       "      <th>thalachh</th>\n",
       "      <th>exng</th>\n",
       "      <th>oldpeak</th>\n",
       "      <th>slp</th>\n",
       "      <th>caa</th>\n",
       "      <th>thall</th>\n",
       "      <th>output</th>\n",
       "    </tr>\n",
       "  </thead>\n",
       "  <tbody>\n",
       "    <tr>\n",
       "      <th>0</th>\n",
       "      <td>63</td>\n",
       "      <td>1</td>\n",
       "      <td>3</td>\n",
       "      <td>145</td>\n",
       "      <td>233</td>\n",
       "      <td>1</td>\n",
       "      <td>0</td>\n",
       "      <td>150</td>\n",
       "      <td>0</td>\n",
       "      <td>2.300</td>\n",
       "      <td>0</td>\n",
       "      <td>0</td>\n",
       "      <td>1</td>\n",
       "      <td>1</td>\n",
       "    </tr>\n",
       "    <tr>\n",
       "      <th>1</th>\n",
       "      <td>37</td>\n",
       "      <td>1</td>\n",
       "      <td>2</td>\n",
       "      <td>130</td>\n",
       "      <td>250</td>\n",
       "      <td>0</td>\n",
       "      <td>1</td>\n",
       "      <td>187</td>\n",
       "      <td>0</td>\n",
       "      <td>3.500</td>\n",
       "      <td>0</td>\n",
       "      <td>0</td>\n",
       "      <td>2</td>\n",
       "      <td>1</td>\n",
       "    </tr>\n",
       "    <tr>\n",
       "      <th>2</th>\n",
       "      <td>41</td>\n",
       "      <td>0</td>\n",
       "      <td>1</td>\n",
       "      <td>130</td>\n",
       "      <td>204</td>\n",
       "      <td>0</td>\n",
       "      <td>0</td>\n",
       "      <td>172</td>\n",
       "      <td>0</td>\n",
       "      <td>1.400</td>\n",
       "      <td>2</td>\n",
       "      <td>0</td>\n",
       "      <td>2</td>\n",
       "      <td>1</td>\n",
       "    </tr>\n",
       "    <tr>\n",
       "      <th>3</th>\n",
       "      <td>56</td>\n",
       "      <td>1</td>\n",
       "      <td>1</td>\n",
       "      <td>120</td>\n",
       "      <td>236</td>\n",
       "      <td>0</td>\n",
       "      <td>1</td>\n",
       "      <td>178</td>\n",
       "      <td>0</td>\n",
       "      <td>0.800</td>\n",
       "      <td>2</td>\n",
       "      <td>0</td>\n",
       "      <td>2</td>\n",
       "      <td>1</td>\n",
       "    </tr>\n",
       "    <tr>\n",
       "      <th>4</th>\n",
       "      <td>57</td>\n",
       "      <td>0</td>\n",
       "      <td>0</td>\n",
       "      <td>120</td>\n",
       "      <td>354</td>\n",
       "      <td>0</td>\n",
       "      <td>1</td>\n",
       "      <td>163</td>\n",
       "      <td>1</td>\n",
       "      <td>0.600</td>\n",
       "      <td>2</td>\n",
       "      <td>0</td>\n",
       "      <td>2</td>\n",
       "      <td>1</td>\n",
       "    </tr>\n",
       "  </tbody>\n",
       "</table>\n",
       "</div>"
      ],
      "text/plain": [
       "   age  sex  cp  trtbps  chol  fbs  restecg  thalachh  exng  oldpeak  slp  \\\n",
       "0   63    1   3     145   233    1        0       150     0    2.300    0   \n",
       "1   37    1   2     130   250    0        1       187     0    3.500    0   \n",
       "2   41    0   1     130   204    0        0       172     0    1.400    2   \n",
       "3   56    1   1     120   236    0        1       178     0    0.800    2   \n",
       "4   57    0   0     120   354    0        1       163     1    0.600    2   \n",
       "\n",
       "   caa  thall  output  \n",
       "0    0      1       1  \n",
       "1    0      2       1  \n",
       "2    0      2       1  \n",
       "3    0      2       1  \n",
       "4    0      2       1  "
      ]
     },
     "execution_count": 188,
     "metadata": {},
     "output_type": "execute_result"
    }
   ],
   "source": [
    "dataset.head()"
   ]
  },
  {
   "cell_type": "markdown",
   "id": "fc568a59",
   "metadata": {},
   "source": [
    "### Normalización de los datos"
   ]
  },
  {
   "cell_type": "code",
   "execution_count": 189,
   "id": "169b76d1",
   "metadata": {},
   "outputs": [],
   "source": [
    "dataset_norm=dataset.copy()\n",
    "\n",
    "columnas = ['trtbps', 'chol', 'thalachh', 'oldpeak', 'age']\n",
    "for col in columnas:\n",
    "    minimum = min(dataset_norm[col])\n",
    "    maximum = max(dataset_norm[col])\n",
    "    dataset_norm[col] = (dataset_norm[col] - minimum)/ (maximum - minimum)"
   ]
  },
  {
   "cell_type": "code",
   "execution_count": 190,
   "id": "9fbe78c5",
   "metadata": {},
   "outputs": [
    {
     "data": {
      "text/html": [
       "<div>\n",
       "<style scoped>\n",
       "    .dataframe tbody tr th:only-of-type {\n",
       "        vertical-align: middle;\n",
       "    }\n",
       "\n",
       "    .dataframe tbody tr th {\n",
       "        vertical-align: top;\n",
       "    }\n",
       "\n",
       "    .dataframe thead th {\n",
       "        text-align: right;\n",
       "    }\n",
       "</style>\n",
       "<table border=\"1\" class=\"dataframe\">\n",
       "  <thead>\n",
       "    <tr style=\"text-align: right;\">\n",
       "      <th></th>\n",
       "      <th>age</th>\n",
       "      <th>sex</th>\n",
       "      <th>cp</th>\n",
       "      <th>trtbps</th>\n",
       "      <th>chol</th>\n",
       "      <th>fbs</th>\n",
       "      <th>restecg</th>\n",
       "      <th>thalachh</th>\n",
       "      <th>exng</th>\n",
       "      <th>oldpeak</th>\n",
       "      <th>slp</th>\n",
       "      <th>caa</th>\n",
       "      <th>thall</th>\n",
       "      <th>output</th>\n",
       "    </tr>\n",
       "  </thead>\n",
       "  <tbody>\n",
       "    <tr>\n",
       "      <th>0</th>\n",
       "      <td>0.708</td>\n",
       "      <td>1</td>\n",
       "      <td>3</td>\n",
       "      <td>0.481</td>\n",
       "      <td>0.244</td>\n",
       "      <td>1</td>\n",
       "      <td>0</td>\n",
       "      <td>0.603</td>\n",
       "      <td>0</td>\n",
       "      <td>0.371</td>\n",
       "      <td>0</td>\n",
       "      <td>0</td>\n",
       "      <td>1</td>\n",
       "      <td>1</td>\n",
       "    </tr>\n",
       "    <tr>\n",
       "      <th>1</th>\n",
       "      <td>0.167</td>\n",
       "      <td>1</td>\n",
       "      <td>2</td>\n",
       "      <td>0.340</td>\n",
       "      <td>0.283</td>\n",
       "      <td>0</td>\n",
       "      <td>1</td>\n",
       "      <td>0.885</td>\n",
       "      <td>0</td>\n",
       "      <td>0.565</td>\n",
       "      <td>0</td>\n",
       "      <td>0</td>\n",
       "      <td>2</td>\n",
       "      <td>1</td>\n",
       "    </tr>\n",
       "    <tr>\n",
       "      <th>2</th>\n",
       "      <td>0.250</td>\n",
       "      <td>0</td>\n",
       "      <td>1</td>\n",
       "      <td>0.340</td>\n",
       "      <td>0.178</td>\n",
       "      <td>0</td>\n",
       "      <td>0</td>\n",
       "      <td>0.771</td>\n",
       "      <td>0</td>\n",
       "      <td>0.226</td>\n",
       "      <td>2</td>\n",
       "      <td>0</td>\n",
       "      <td>2</td>\n",
       "      <td>1</td>\n",
       "    </tr>\n",
       "    <tr>\n",
       "      <th>3</th>\n",
       "      <td>0.562</td>\n",
       "      <td>1</td>\n",
       "      <td>1</td>\n",
       "      <td>0.245</td>\n",
       "      <td>0.251</td>\n",
       "      <td>0</td>\n",
       "      <td>1</td>\n",
       "      <td>0.817</td>\n",
       "      <td>0</td>\n",
       "      <td>0.129</td>\n",
       "      <td>2</td>\n",
       "      <td>0</td>\n",
       "      <td>2</td>\n",
       "      <td>1</td>\n",
       "    </tr>\n",
       "    <tr>\n",
       "      <th>4</th>\n",
       "      <td>0.583</td>\n",
       "      <td>0</td>\n",
       "      <td>0</td>\n",
       "      <td>0.245</td>\n",
       "      <td>0.521</td>\n",
       "      <td>0</td>\n",
       "      <td>1</td>\n",
       "      <td>0.702</td>\n",
       "      <td>1</td>\n",
       "      <td>0.097</td>\n",
       "      <td>2</td>\n",
       "      <td>0</td>\n",
       "      <td>2</td>\n",
       "      <td>1</td>\n",
       "    </tr>\n",
       "    <tr>\n",
       "      <th>...</th>\n",
       "      <td>...</td>\n",
       "      <td>...</td>\n",
       "      <td>...</td>\n",
       "      <td>...</td>\n",
       "      <td>...</td>\n",
       "      <td>...</td>\n",
       "      <td>...</td>\n",
       "      <td>...</td>\n",
       "      <td>...</td>\n",
       "      <td>...</td>\n",
       "      <td>...</td>\n",
       "      <td>...</td>\n",
       "      <td>...</td>\n",
       "      <td>...</td>\n",
       "    </tr>\n",
       "    <tr>\n",
       "      <th>298</th>\n",
       "      <td>0.583</td>\n",
       "      <td>0</td>\n",
       "      <td>0</td>\n",
       "      <td>0.434</td>\n",
       "      <td>0.263</td>\n",
       "      <td>0</td>\n",
       "      <td>1</td>\n",
       "      <td>0.397</td>\n",
       "      <td>1</td>\n",
       "      <td>0.032</td>\n",
       "      <td>1</td>\n",
       "      <td>0</td>\n",
       "      <td>3</td>\n",
       "      <td>0</td>\n",
       "    </tr>\n",
       "    <tr>\n",
       "      <th>299</th>\n",
       "      <td>0.333</td>\n",
       "      <td>1</td>\n",
       "      <td>3</td>\n",
       "      <td>0.151</td>\n",
       "      <td>0.315</td>\n",
       "      <td>0</td>\n",
       "      <td>1</td>\n",
       "      <td>0.466</td>\n",
       "      <td>0</td>\n",
       "      <td>0.194</td>\n",
       "      <td>1</td>\n",
       "      <td>0</td>\n",
       "      <td>3</td>\n",
       "      <td>0</td>\n",
       "    </tr>\n",
       "    <tr>\n",
       "      <th>300</th>\n",
       "      <td>0.812</td>\n",
       "      <td>1</td>\n",
       "      <td>0</td>\n",
       "      <td>0.472</td>\n",
       "      <td>0.153</td>\n",
       "      <td>1</td>\n",
       "      <td>1</td>\n",
       "      <td>0.534</td>\n",
       "      <td>0</td>\n",
       "      <td>0.548</td>\n",
       "      <td>1</td>\n",
       "      <td>2</td>\n",
       "      <td>3</td>\n",
       "      <td>0</td>\n",
       "    </tr>\n",
       "    <tr>\n",
       "      <th>301</th>\n",
       "      <td>0.583</td>\n",
       "      <td>1</td>\n",
       "      <td>0</td>\n",
       "      <td>0.340</td>\n",
       "      <td>0.011</td>\n",
       "      <td>0</td>\n",
       "      <td>1</td>\n",
       "      <td>0.336</td>\n",
       "      <td>1</td>\n",
       "      <td>0.194</td>\n",
       "      <td>1</td>\n",
       "      <td>1</td>\n",
       "      <td>3</td>\n",
       "      <td>0</td>\n",
       "    </tr>\n",
       "    <tr>\n",
       "      <th>302</th>\n",
       "      <td>0.583</td>\n",
       "      <td>0</td>\n",
       "      <td>1</td>\n",
       "      <td>0.340</td>\n",
       "      <td>0.251</td>\n",
       "      <td>0</td>\n",
       "      <td>0</td>\n",
       "      <td>0.786</td>\n",
       "      <td>0</td>\n",
       "      <td>0.000</td>\n",
       "      <td>1</td>\n",
       "      <td>1</td>\n",
       "      <td>2</td>\n",
       "      <td>0</td>\n",
       "    </tr>\n",
       "  </tbody>\n",
       "</table>\n",
       "<p>302 rows × 14 columns</p>\n",
       "</div>"
      ],
      "text/plain": [
       "      age  sex  cp  trtbps  chol  fbs  restecg  thalachh  exng  oldpeak  slp  \\\n",
       "0   0.708    1   3   0.481 0.244    1        0     0.603     0    0.371    0   \n",
       "1   0.167    1   2   0.340 0.283    0        1     0.885     0    0.565    0   \n",
       "2   0.250    0   1   0.340 0.178    0        0     0.771     0    0.226    2   \n",
       "3   0.562    1   1   0.245 0.251    0        1     0.817     0    0.129    2   \n",
       "4   0.583    0   0   0.245 0.521    0        1     0.702     1    0.097    2   \n",
       "..    ...  ...  ..     ...   ...  ...      ...       ...   ...      ...  ...   \n",
       "298 0.583    0   0   0.434 0.263    0        1     0.397     1    0.032    1   \n",
       "299 0.333    1   3   0.151 0.315    0        1     0.466     0    0.194    1   \n",
       "300 0.812    1   0   0.472 0.153    1        1     0.534     0    0.548    1   \n",
       "301 0.583    1   0   0.340 0.011    0        1     0.336     1    0.194    1   \n",
       "302 0.583    0   1   0.340 0.251    0        0     0.786     0    0.000    1   \n",
       "\n",
       "     caa  thall  output  \n",
       "0      0      1       1  \n",
       "1      0      2       1  \n",
       "2      0      2       1  \n",
       "3      0      2       1  \n",
       "4      0      2       1  \n",
       "..   ...    ...     ...  \n",
       "298    0      3       0  \n",
       "299    0      3       0  \n",
       "300    2      3       0  \n",
       "301    1      3       0  \n",
       "302    1      2       0  \n",
       "\n",
       "[302 rows x 14 columns]"
      ]
     },
     "execution_count": 190,
     "metadata": {},
     "output_type": "execute_result"
    }
   ],
   "source": [
    "dataset_norm"
   ]
  },
  {
   "cell_type": "markdown",
   "id": "d441be32",
   "metadata": {},
   "source": [
    "### Visualización después de normalizar"
   ]
  },
  {
   "cell_type": "code",
   "execution_count": 191,
   "id": "d373b4d0",
   "metadata": {},
   "outputs": [
    {
     "data": {
      "image/png": "[encoded data removed]",
      "text/plain": [
       "<Figure size 720x720 with 14 Axes>"
      ]
     },
     "metadata": {
      "needs_background": "light"
     },
     "output_type": "display_data"
    }
   ],
   "source": [
    "fig, ax = plt.subplots(ncols = 7, nrows = 2, figsize = (10, 10))\n",
    "index = 0\n",
    "ax = ax.flatten()\n",
    "\n",
    "for col, value in dataset.items():\n",
    "    sns.boxplot(y=col, data=dataset_norm, ax=ax[index])\n",
    "    index += 1\n",
    "plt.tight_layout(pad = 0.5, w_pad=0.7, h_pad=5.0)"
   ]
  },
  {
   "cell_type": "markdown",
   "id": "801d0799",
   "metadata": {},
   "source": [
    "### Agregamos columnas categoricas a partir de valores categoricos"
   ]
  },
  {
   "cell_type": "code",
   "execution_count": 192,
   "id": "eb4c53f3",
   "metadata": {},
   "outputs": [
    {
     "data": {
      "text/html": [
       "<div>\n",
       "<style scoped>\n",
       "    .dataframe tbody tr th:only-of-type {\n",
       "        vertical-align: middle;\n",
       "    }\n",
       "\n",
       "    .dataframe tbody tr th {\n",
       "        vertical-align: top;\n",
       "    }\n",
       "\n",
       "    .dataframe thead th {\n",
       "        text-align: right;\n",
       "    }\n",
       "</style>\n",
       "<table border=\"1\" class=\"dataframe\">\n",
       "  <thead>\n",
       "    <tr style=\"text-align: right;\">\n",
       "      <th></th>\n",
       "      <th>age</th>\n",
       "      <th>cp</th>\n",
       "      <th>trtbps</th>\n",
       "      <th>thalachh</th>\n",
       "      <th>exng</th>\n",
       "      <th>oldpeak</th>\n",
       "      <th>slp</th>\n",
       "      <th>caa</th>\n",
       "      <th>thall</th>\n",
       "      <th>output</th>\n",
       "    </tr>\n",
       "  </thead>\n",
       "  <tbody>\n",
       "    <tr>\n",
       "      <th>0</th>\n",
       "      <td>63</td>\n",
       "      <td>3</td>\n",
       "      <td>145</td>\n",
       "      <td>150</td>\n",
       "      <td>0</td>\n",
       "      <td>2.300</td>\n",
       "      <td>0</td>\n",
       "      <td>0</td>\n",
       "      <td>1</td>\n",
       "      <td>1</td>\n",
       "    </tr>\n",
       "    <tr>\n",
       "      <th>1</th>\n",
       "      <td>37</td>\n",
       "      <td>2</td>\n",
       "      <td>130</td>\n",
       "      <td>187</td>\n",
       "      <td>0</td>\n",
       "      <td>3.500</td>\n",
       "      <td>0</td>\n",
       "      <td>0</td>\n",
       "      <td>2</td>\n",
       "      <td>1</td>\n",
       "    </tr>\n",
       "    <tr>\n",
       "      <th>2</th>\n",
       "      <td>41</td>\n",
       "      <td>1</td>\n",
       "      <td>130</td>\n",
       "      <td>172</td>\n",
       "      <td>0</td>\n",
       "      <td>1.400</td>\n",
       "      <td>2</td>\n",
       "      <td>0</td>\n",
       "      <td>2</td>\n",
       "      <td>1</td>\n",
       "    </tr>\n",
       "    <tr>\n",
       "      <th>3</th>\n",
       "      <td>56</td>\n",
       "      <td>1</td>\n",
       "      <td>120</td>\n",
       "      <td>178</td>\n",
       "      <td>0</td>\n",
       "      <td>0.800</td>\n",
       "      <td>2</td>\n",
       "      <td>0</td>\n",
       "      <td>2</td>\n",
       "      <td>1</td>\n",
       "    </tr>\n",
       "    <tr>\n",
       "      <th>4</th>\n",
       "      <td>57</td>\n",
       "      <td>0</td>\n",
       "      <td>120</td>\n",
       "      <td>163</td>\n",
       "      <td>1</td>\n",
       "      <td>0.600</td>\n",
       "      <td>2</td>\n",
       "      <td>0</td>\n",
       "      <td>2</td>\n",
       "      <td>1</td>\n",
       "    </tr>\n",
       "  </tbody>\n",
       "</table>\n",
       "</div>"
      ],
      "text/plain": [
       "   age  cp  trtbps  thalachh  exng  oldpeak  slp  caa  thall  output\n",
       "0   63   3     145       150     0    2.300    0    0      1       1\n",
       "1   37   2     130       187     0    3.500    0    0      2       1\n",
       "2   41   1     130       172     0    1.400    2    0      2       1\n",
       "3   56   1     120       178     0    0.800    2    0      2       1\n",
       "4   57   0     120       163     1    0.600    2    0      2       1"
      ]
     },
     "execution_count": 192,
     "metadata": {},
     "output_type": "execute_result"
    }
   ],
   "source": [
    "df_sense = dataset.copy()\n",
    "df_sense.drop(['sex', 'chol', 'restecg', 'fbs'], axis=1, inplace=True)\n",
    "df_sense.head()"
   ]
  },
  {
   "cell_type": "code",
   "execution_count": 193,
   "id": "441d967a",
   "metadata": {},
   "outputs": [
    {
     "data": {
      "text/html": [
       "<div>\n",
       "<style scoped>\n",
       "    .dataframe tbody tr th:only-of-type {\n",
       "        vertical-align: middle;\n",
       "    }\n",
       "\n",
       "    .dataframe tbody tr th {\n",
       "        vertical-align: top;\n",
       "    }\n",
       "\n",
       "    .dataframe thead th {\n",
       "        text-align: right;\n",
       "    }\n",
       "</style>\n",
       "<table border=\"1\" class=\"dataframe\">\n",
       "  <thead>\n",
       "    <tr style=\"text-align: right;\">\n",
       "      <th></th>\n",
       "      <th>age</th>\n",
       "      <th>cp</th>\n",
       "      <th>trtbps</th>\n",
       "      <th>thalachh</th>\n",
       "      <th>exng</th>\n",
       "      <th>oldpeak</th>\n",
       "      <th>slp</th>\n",
       "      <th>caa</th>\n",
       "      <th>thall</th>\n",
       "      <th>output</th>\n",
       "    </tr>\n",
       "  </thead>\n",
       "  <tbody>\n",
       "    <tr>\n",
       "      <th>0</th>\n",
       "      <td>63</td>\n",
       "      <td>3</td>\n",
       "      <td>145</td>\n",
       "      <td>150</td>\n",
       "      <td>0</td>\n",
       "      <td>2.300</td>\n",
       "      <td>0</td>\n",
       "      <td>0</td>\n",
       "      <td>1</td>\n",
       "      <td>1</td>\n",
       "    </tr>\n",
       "    <tr>\n",
       "      <th>1</th>\n",
       "      <td>37</td>\n",
       "      <td>2</td>\n",
       "      <td>130</td>\n",
       "      <td>187</td>\n",
       "      <td>0</td>\n",
       "      <td>3.500</td>\n",
       "      <td>0</td>\n",
       "      <td>0</td>\n",
       "      <td>2</td>\n",
       "      <td>1</td>\n",
       "    </tr>\n",
       "    <tr>\n",
       "      <th>2</th>\n",
       "      <td>41</td>\n",
       "      <td>1</td>\n",
       "      <td>130</td>\n",
       "      <td>172</td>\n",
       "      <td>0</td>\n",
       "      <td>1.400</td>\n",
       "      <td>2</td>\n",
       "      <td>0</td>\n",
       "      <td>2</td>\n",
       "      <td>1</td>\n",
       "    </tr>\n",
       "    <tr>\n",
       "      <th>3</th>\n",
       "      <td>56</td>\n",
       "      <td>1</td>\n",
       "      <td>120</td>\n",
       "      <td>178</td>\n",
       "      <td>0</td>\n",
       "      <td>0.800</td>\n",
       "      <td>2</td>\n",
       "      <td>0</td>\n",
       "      <td>2</td>\n",
       "      <td>1</td>\n",
       "    </tr>\n",
       "    <tr>\n",
       "      <th>4</th>\n",
       "      <td>57</td>\n",
       "      <td>0</td>\n",
       "      <td>120</td>\n",
       "      <td>163</td>\n",
       "      <td>1</td>\n",
       "      <td>0.600</td>\n",
       "      <td>2</td>\n",
       "      <td>0</td>\n",
       "      <td>2</td>\n",
       "      <td>1</td>\n",
       "    </tr>\n",
       "  </tbody>\n",
       "</table>\n",
       "</div>"
      ],
      "text/plain": [
       "   age  cp  trtbps  thalachh  exng  oldpeak  slp  caa  thall  output\n",
       "0   63   3     145       150     0    2.300    0    0      1       1\n",
       "1   37   2     130       187     0    3.500    0    0      2       1\n",
       "2   41   1     130       172     0    1.400    2    0      2       1\n",
       "3   56   1     120       178     0    0.800    2    0      2       1\n",
       "4   57   0     120       163     1    0.600    2    0      2       1"
      ]
     },
     "execution_count": 193,
     "metadata": {},
     "output_type": "execute_result"
    }
   ],
   "source": [
    "one_hot_data=df_sense.copy()\n",
    "one_hot_data.head()"
   ]
  },
  {
   "cell_type": "code",
   "execution_count": 194,
   "id": "97224e98",
   "metadata": {},
   "outputs": [],
   "source": [
    "#CP: type of chest pain \n",
    "one_hot_data.loc[one_hot_data['cp'] == 0, 'cp'] = 'typical angina'\n",
    "one_hot_data.loc[one_hot_data['cp'] == 1, 'cp'] = 'atypical angina'\n",
    "one_hot_data.loc[one_hot_data['cp'] == 2, 'cp'] = 'non-anginal pain'\n",
    "one_hot_data.loc[one_hot_data['cp'] == 3, 'cp'] = 'asymptomatic'\n",
    "# enxercise induced angina\n",
    "one_hot_data.loc[one_hot_data['exng'] == 1, 'exng'] = 'yes'\n",
    "one_hot_data.loc[one_hot_data['exng'] == 0, 'exng'] = 'no'\n",
    "#slope of peak exercise ST segment\n",
    "one_hot_data.loc[one_hot_data['slp'] == 0, 'slp'] = 'upsloping'\n",
    "one_hot_data.loc[one_hot_data['slp'] == 1, 'slp'] = 'flat'\n",
    "one_hot_data.loc[one_hot_data['slp'] == 2, 'slp'] = 'downsloping'\n",
    "#thalassemia blood disorder\n",
    "one_hot_data.loc[one_hot_data['thall'] == 0, 'thall'] = 'None'\n",
    "one_hot_data.loc[one_hot_data['thall'] == 1, 'thall'] = 'fixed defect'\n",
    "one_hot_data.loc[one_hot_data['thall'] == 2, 'thall'] = 'normal blood flow'\n",
    "one_hot_data.loc[one_hot_data['thall'] == 3, 'thall'] = 'reversible defect'\n",
    "\n"
   ]
  },
  {
   "cell_type": "markdown",
   "id": "df99ca0f",
   "metadata": {},
   "source": [
    "### Codificacion con One Hot Encoding"
   ]
  },
  {
   "cell_type": "code",
   "execution_count": 195,
   "id": "42b5253c",
   "metadata": {},
   "outputs": [],
   "source": [
    "X=one_hot_data.iloc[:, :-1]\n",
    "y=one_hot_data.iloc[:, -1]\n",
    "\n",
    "#Entrenando al modelo\n",
    "x_train, x_test, y_train, y_test = train_test_split(X, y, test_size = 0.1, random_state=1, stratify=y)"
   ]
  },
  {
   "cell_type": "code",
   "execution_count": 196,
   "id": "cd3adacd",
   "metadata": {},
   "outputs": [],
   "source": [
    "encoding_cols = ['cp', 'exng', 'slp', 'thall']\n",
    "\n",
    "oh_encode = OneHotEncoder(handle_unknown = 'ignore', sparse = False)\n",
    "\n",
    "x_train_encoded = pd.DataFrame(oh_encode.fit_transform(x_train[encoding_cols]), index = x_train.index)\n",
    "x_test_encoded = pd.DataFrame(oh_encode.transform(x_test[encoding_cols]), index = x_test.index)\n",
    "\n",
    "x_train_num = x_train.drop(['cp', 'exng', 'slp', 'thall'], axis=1)\n",
    "x_test_num = x_test.drop(['cp', 'exng', 'slp', 'thall'], axis=1)\n",
    "\n",
    "x_train_en = pd.concat([x_train_num, x_train_encoded], axis=1)\n",
    "x_test_en = pd.concat([x_test_num, x_test_encoded], axis=1)"
   ]
  },
  {
   "cell_type": "code",
   "execution_count": 197,
   "id": "494b1329",
   "metadata": {},
   "outputs": [
    {
     "data": {
      "text/html": [
       "<div>\n",
       "<style scoped>\n",
       "    .dataframe tbody tr th:only-of-type {\n",
       "        vertical-align: middle;\n",
       "    }\n",
       "\n",
       "    .dataframe tbody tr th {\n",
       "        vertical-align: top;\n",
       "    }\n",
       "\n",
       "    .dataframe thead th {\n",
       "        text-align: right;\n",
       "    }\n",
       "</style>\n",
       "<table border=\"1\" class=\"dataframe\">\n",
       "  <thead>\n",
       "    <tr style=\"text-align: right;\">\n",
       "      <th></th>\n",
       "      <th>age</th>\n",
       "      <th>trtbps</th>\n",
       "      <th>thalachh</th>\n",
       "      <th>oldpeak</th>\n",
       "      <th>caa</th>\n",
       "      <th>0</th>\n",
       "      <th>1</th>\n",
       "      <th>2</th>\n",
       "      <th>3</th>\n",
       "      <th>4</th>\n",
       "      <th>5</th>\n",
       "      <th>6</th>\n",
       "      <th>7</th>\n",
       "      <th>8</th>\n",
       "      <th>9</th>\n",
       "      <th>10</th>\n",
       "      <th>11</th>\n",
       "      <th>12</th>\n",
       "    </tr>\n",
       "  </thead>\n",
       "  <tbody>\n",
       "    <tr>\n",
       "      <th>53</th>\n",
       "      <td>44</td>\n",
       "      <td>108</td>\n",
       "      <td>175</td>\n",
       "      <td>0.600</td>\n",
       "      <td>0</td>\n",
       "      <td>0.000</td>\n",
       "      <td>0.000</td>\n",
       "      <td>1.000</td>\n",
       "      <td>0.000</td>\n",
       "      <td>1.000</td>\n",
       "      <td>0.000</td>\n",
       "      <td>0.000</td>\n",
       "      <td>1.000</td>\n",
       "      <td>0.000</td>\n",
       "      <td>0.000</td>\n",
       "      <td>0.000</td>\n",
       "      <td>1.000</td>\n",
       "      <td>0.000</td>\n",
       "    </tr>\n",
       "    <tr>\n",
       "      <th>44</th>\n",
       "      <td>39</td>\n",
       "      <td>140</td>\n",
       "      <td>182</td>\n",
       "      <td>0.000</td>\n",
       "      <td>0</td>\n",
       "      <td>0.000</td>\n",
       "      <td>0.000</td>\n",
       "      <td>1.000</td>\n",
       "      <td>0.000</td>\n",
       "      <td>1.000</td>\n",
       "      <td>0.000</td>\n",
       "      <td>1.000</td>\n",
       "      <td>0.000</td>\n",
       "      <td>0.000</td>\n",
       "      <td>0.000</td>\n",
       "      <td>0.000</td>\n",
       "      <td>1.000</td>\n",
       "      <td>0.000</td>\n",
       "    </tr>\n",
       "    <tr>\n",
       "      <th>154</th>\n",
       "      <td>39</td>\n",
       "      <td>138</td>\n",
       "      <td>152</td>\n",
       "      <td>0.000</td>\n",
       "      <td>0</td>\n",
       "      <td>0.000</td>\n",
       "      <td>0.000</td>\n",
       "      <td>1.000</td>\n",
       "      <td>0.000</td>\n",
       "      <td>1.000</td>\n",
       "      <td>0.000</td>\n",
       "      <td>0.000</td>\n",
       "      <td>1.000</td>\n",
       "      <td>0.000</td>\n",
       "      <td>0.000</td>\n",
       "      <td>0.000</td>\n",
       "      <td>1.000</td>\n",
       "      <td>0.000</td>\n",
       "    </tr>\n",
       "    <tr>\n",
       "      <th>250</th>\n",
       "      <td>51</td>\n",
       "      <td>140</td>\n",
       "      <td>122</td>\n",
       "      <td>4.200</td>\n",
       "      <td>3</td>\n",
       "      <td>0.000</td>\n",
       "      <td>0.000</td>\n",
       "      <td>0.000</td>\n",
       "      <td>1.000</td>\n",
       "      <td>0.000</td>\n",
       "      <td>1.000</td>\n",
       "      <td>0.000</td>\n",
       "      <td>1.000</td>\n",
       "      <td>0.000</td>\n",
       "      <td>0.000</td>\n",
       "      <td>0.000</td>\n",
       "      <td>0.000</td>\n",
       "      <td>1.000</td>\n",
       "    </tr>\n",
       "    <tr>\n",
       "      <th>181</th>\n",
       "      <td>65</td>\n",
       "      <td>150</td>\n",
       "      <td>114</td>\n",
       "      <td>1.000</td>\n",
       "      <td>3</td>\n",
       "      <td>0.000</td>\n",
       "      <td>0.000</td>\n",
       "      <td>0.000</td>\n",
       "      <td>1.000</td>\n",
       "      <td>1.000</td>\n",
       "      <td>0.000</td>\n",
       "      <td>0.000</td>\n",
       "      <td>1.000</td>\n",
       "      <td>0.000</td>\n",
       "      <td>0.000</td>\n",
       "      <td>0.000</td>\n",
       "      <td>0.000</td>\n",
       "      <td>1.000</td>\n",
       "    </tr>\n",
       "  </tbody>\n",
       "</table>\n",
       "</div>"
      ],
      "text/plain": [
       "     age  trtbps  thalachh  oldpeak  caa     0     1     2     3     4     5  \\\n",
       "53    44     108       175    0.600    0 0.000 0.000 1.000 0.000 1.000 0.000   \n",
       "44    39     140       182    0.000    0 0.000 0.000 1.000 0.000 1.000 0.000   \n",
       "154   39     138       152    0.000    0 0.000 0.000 1.000 0.000 1.000 0.000   \n",
       "250   51     140       122    4.200    3 0.000 0.000 0.000 1.000 0.000 1.000   \n",
       "181   65     150       114    1.000    3 0.000 0.000 0.000 1.000 1.000 0.000   \n",
       "\n",
       "        6     7     8     9    10    11    12  \n",
       "53  0.000 1.000 0.000 0.000 0.000 1.000 0.000  \n",
       "44  1.000 0.000 0.000 0.000 0.000 1.000 0.000  \n",
       "154 0.000 1.000 0.000 0.000 0.000 1.000 0.000  \n",
       "250 0.000 1.000 0.000 0.000 0.000 0.000 1.000  \n",
       "181 0.000 1.000 0.000 0.000 0.000 0.000 1.000  "
      ]
     },
     "execution_count": 197,
     "metadata": {},
     "output_type": "execute_result"
    }
   ],
   "source": [
    "x_train_en.head()"
   ]
  },
  {
   "cell_type": "code",
   "execution_count": 198,
   "id": "c5ca9cf0",
   "metadata": {},
   "outputs": [
    {
     "data": {
      "text/html": [
       "<div>\n",
       "<style scoped>\n",
       "    .dataframe tbody tr th:only-of-type {\n",
       "        vertical-align: middle;\n",
       "    }\n",
       "\n",
       "    .dataframe tbody tr th {\n",
       "        vertical-align: top;\n",
       "    }\n",
       "\n",
       "    .dataframe thead th {\n",
       "        text-align: right;\n",
       "    }\n",
       "</style>\n",
       "<table border=\"1\" class=\"dataframe\">\n",
       "  <thead>\n",
       "    <tr style=\"text-align: right;\">\n",
       "      <th></th>\n",
       "      <th>age</th>\n",
       "      <th>sex</th>\n",
       "      <th>cp</th>\n",
       "      <th>trtbps</th>\n",
       "      <th>chol</th>\n",
       "      <th>fbs</th>\n",
       "      <th>restecg</th>\n",
       "      <th>thalachh</th>\n",
       "      <th>exng</th>\n",
       "      <th>oldpeak</th>\n",
       "      <th>slp</th>\n",
       "      <th>caa</th>\n",
       "      <th>thall</th>\n",
       "      <th>output</th>\n",
       "    </tr>\n",
       "  </thead>\n",
       "  <tbody>\n",
       "    <tr>\n",
       "      <th>0</th>\n",
       "      <td>63</td>\n",
       "      <td>1</td>\n",
       "      <td>3</td>\n",
       "      <td>145</td>\n",
       "      <td>233</td>\n",
       "      <td>1</td>\n",
       "      <td>0</td>\n",
       "      <td>150</td>\n",
       "      <td>0</td>\n",
       "      <td>2.300</td>\n",
       "      <td>0</td>\n",
       "      <td>0</td>\n",
       "      <td>1</td>\n",
       "      <td>1</td>\n",
       "    </tr>\n",
       "    <tr>\n",
       "      <th>1</th>\n",
       "      <td>37</td>\n",
       "      <td>1</td>\n",
       "      <td>2</td>\n",
       "      <td>130</td>\n",
       "      <td>250</td>\n",
       "      <td>0</td>\n",
       "      <td>1</td>\n",
       "      <td>187</td>\n",
       "      <td>0</td>\n",
       "      <td>3.500</td>\n",
       "      <td>0</td>\n",
       "      <td>0</td>\n",
       "      <td>2</td>\n",
       "      <td>1</td>\n",
       "    </tr>\n",
       "    <tr>\n",
       "      <th>2</th>\n",
       "      <td>41</td>\n",
       "      <td>0</td>\n",
       "      <td>1</td>\n",
       "      <td>130</td>\n",
       "      <td>204</td>\n",
       "      <td>0</td>\n",
       "      <td>0</td>\n",
       "      <td>172</td>\n",
       "      <td>0</td>\n",
       "      <td>1.400</td>\n",
       "      <td>2</td>\n",
       "      <td>0</td>\n",
       "      <td>2</td>\n",
       "      <td>1</td>\n",
       "    </tr>\n",
       "    <tr>\n",
       "      <th>3</th>\n",
       "      <td>56</td>\n",
       "      <td>1</td>\n",
       "      <td>1</td>\n",
       "      <td>120</td>\n",
       "      <td>236</td>\n",
       "      <td>0</td>\n",
       "      <td>1</td>\n",
       "      <td>178</td>\n",
       "      <td>0</td>\n",
       "      <td>0.800</td>\n",
       "      <td>2</td>\n",
       "      <td>0</td>\n",
       "      <td>2</td>\n",
       "      <td>1</td>\n",
       "    </tr>\n",
       "    <tr>\n",
       "      <th>4</th>\n",
       "      <td>57</td>\n",
       "      <td>0</td>\n",
       "      <td>0</td>\n",
       "      <td>120</td>\n",
       "      <td>354</td>\n",
       "      <td>0</td>\n",
       "      <td>1</td>\n",
       "      <td>163</td>\n",
       "      <td>1</td>\n",
       "      <td>0.600</td>\n",
       "      <td>2</td>\n",
       "      <td>0</td>\n",
       "      <td>2</td>\n",
       "      <td>1</td>\n",
       "    </tr>\n",
       "  </tbody>\n",
       "</table>\n",
       "</div>"
      ],
      "text/plain": [
       "   age  sex  cp  trtbps  chol  fbs  restecg  thalachh  exng  oldpeak  slp  \\\n",
       "0   63    1   3     145   233    1        0       150     0    2.300    0   \n",
       "1   37    1   2     130   250    0        1       187     0    3.500    0   \n",
       "2   41    0   1     130   204    0        0       172     0    1.400    2   \n",
       "3   56    1   1     120   236    0        1       178     0    0.800    2   \n",
       "4   57    0   0     120   354    0        1       163     1    0.600    2   \n",
       "\n",
       "   caa  thall  output  \n",
       "0    0      1       1  \n",
       "1    0      2       1  \n",
       "2    0      2       1  \n",
       "3    0      2       1  \n",
       "4    0      2       1  "
      ]
     },
     "execution_count": 198,
     "metadata": {},
     "output_type": "execute_result"
    }
   ],
   "source": [
    "dataset.head()"
   ]
  },
  {
   "cell_type": "markdown",
   "id": "d70f3995",
   "metadata": {},
   "source": [
    "## 3. Model Selection"
   ]
  },
  {
   "cell_type": "markdown",
   "id": "367e091c",
   "metadata": {},
   "source": [
    "### Preparacion del modelo"
   ]
  },
  {
   "cell_type": "code",
   "execution_count": 199,
   "id": "e062ab05",
   "metadata": {},
   "outputs": [],
   "source": [
    "modelos = pd.DataFrame(columns=[\"Modelo\",\"Precision\"])\n",
    "modelos_rl = pd.DataFrame(columns=[\"Modelo\",\"Precision\",\"C\",\"fit_intercept\",\"penalty\",\"tol\"])\n",
    "modelos_svm =pd.DataFrame(columns=[\"Modelo\",\"Precision\",\"C\",\"probability\",\"gamma\",\"tol\"])\n",
    "modelos_svm_linear =pd.DataFrame(columns=[\"Modelo\",\"Precision\",\"C\",\"probability\",\"gamma\",\"tol\"])\n",
    "modelos_svm_poly =pd.DataFrame(columns=[\"Modelo\",\"Precision\",\"C\",\"probability\",\"gamma\",\"tol\"])\n",
    "modelo_rf_=pd.DataFrame(columns=[\"Modelo\",\"Precision\",\"n_estimators\",\"min_samples_leaf\"])\n",
    "modelo_knn=pd.DataFrame(columns=[\"Modelo\",\"Precision\",\"n\"])"
   ]
  },
  {
   "cell_type": "code",
   "execution_count": 200,
   "id": "58c34260",
   "metadata": {},
   "outputs": [],
   "source": [
    "c_list=[0.001,0.01,0.1,1.0,2.0]\n",
    "f_inter=[False,True]\n",
    "gammas=['scale','auto']\n",
    "estimadores=[100,200,300,500]\n",
    "min_samples=[0.1,0.15,0.2,0.25,0.3]\n",
    "n=[10,15,20,30,50]"
   ]
  },
  {
   "cell_type": "code",
   "execution_count": 201,
   "id": "91b2b58a",
   "metadata": {},
   "outputs": [],
   "source": [
    "X=dataset_norm.drop('output', axis=1)\n",
    "#Variable Objetivo\n",
    "y=dataset_norm['output']\n",
    "X_train, X_test, y_train, y_test = train_test_split(X, y,train_size=0.8,random_state=42)"
   ]
  },
  {
   "cell_type": "code",
   "execution_count": 202,
   "id": "f58d963e",
   "metadata": {},
   "outputs": [
    {
     "data": {
      "text/plain": [
       "(302, 13)"
      ]
     },
     "execution_count": 202,
     "metadata": {},
     "output_type": "execute_result"
    }
   ],
   "source": [
    "X.shape"
   ]
  },
  {
   "cell_type": "code",
   "execution_count": 203,
   "id": "6d095b1e",
   "metadata": {},
   "outputs": [
    {
     "data": {
      "text/plain": [
       "(302,)"
      ]
     },
     "execution_count": 203,
     "metadata": {},
     "output_type": "execute_result"
    }
   ],
   "source": [
    "y.shape"
   ]
  },
  {
   "cell_type": "markdown",
   "id": "1c386e5f",
   "metadata": {},
   "source": [
    "### Regresion Logistica"
   ]
  },
  {
   "cell_type": "code",
   "execution_count": 204,
   "id": "aff8ef00",
   "metadata": {},
   "outputs": [
    {
     "data": {
      "text/plain": [
       "0.8524590163934426"
      ]
     },
     "execution_count": 204,
     "metadata": {},
     "output_type": "execute_result"
    }
   ],
   "source": [
    "#Modelo\n",
    "modelo=LogisticRegression(C=0.010,fit_intercept=True, penalty='l2',tol=0.001)\n",
    "#Entrenamiento del modelo\n",
    "modelo.fit(X_train,y_train)\n",
    "#Prediccion en base al training test\n",
    "prediccion=modelo.predict(X_test)\n",
    "#Accuracy obtenido\n",
    "acc=accuracy_score(y_test,prediccion)\n",
    "valor={\"Modelo\":\"Regresion Logistica\",\"Precision\":acc}\n",
    "modelos=modelos.append(valor,ignore_index=True)\n",
    "acc"
   ]
  },
  {
   "cell_type": "code",
   "execution_count": 205,
   "id": "d7278bce",
   "metadata": {},
   "outputs": [],
   "source": [
    "for i in c_list:\n",
    "    for j in f_inter:\n",
    "        #Modelo\n",
    "        modelo=LogisticRegression(C=i,fit_intercept=j, penalty='l2',tol=0.001)\n",
    "        #Entrenamiento del modelo\n",
    "        modelo.fit(X_train,y_train)\n",
    "        #Prediccion en base al training test\n",
    "        prediccion=modelo.predict(X_test)\n",
    "        #Accuracy obtenido\n",
    "        acc=accuracy_score(y_test,prediccion)\n",
    "        valor2={\"Modelo\":\"Regresion Logistica\",\"Precision\":acc,\"C\":i,\"fit_intercept\":j,\"penalty\":\"l2\",\"tol\":0.001}\n",
    "        modelos_rl =modelos_rl .append(valor2,ignore_index=True)"
   ]
  },
  {
   "cell_type": "code",
   "execution_count": 206,
   "id": "b4b90d6e",
   "metadata": {},
   "outputs": [
    {
     "data": {
      "text/html": [
       "<div>\n",
       "<style scoped>\n",
       "    .dataframe tbody tr th:only-of-type {\n",
       "        vertical-align: middle;\n",
       "    }\n",
       "\n",
       "    .dataframe tbody tr th {\n",
       "        vertical-align: top;\n",
       "    }\n",
       "\n",
       "    .dataframe thead th {\n",
       "        text-align: right;\n",
       "    }\n",
       "</style>\n",
       "<table border=\"1\" class=\"dataframe\">\n",
       "  <thead>\n",
       "    <tr style=\"text-align: right;\">\n",
       "      <th></th>\n",
       "      <th>Modelo</th>\n",
       "      <th>Precision</th>\n",
       "      <th>C</th>\n",
       "      <th>fit_intercept</th>\n",
       "      <th>penalty</th>\n",
       "      <th>tol</th>\n",
       "    </tr>\n",
       "  </thead>\n",
       "  <tbody>\n",
       "    <tr>\n",
       "      <th>2</th>\n",
       "      <td>Regresion Logistica</td>\n",
       "      <td>0.869</td>\n",
       "      <td>0.010</td>\n",
       "      <td>False</td>\n",
       "      <td>l2</td>\n",
       "      <td>0.001</td>\n",
       "    </tr>\n",
       "    <tr>\n",
       "      <th>0</th>\n",
       "      <td>Regresion Logistica</td>\n",
       "      <td>0.852</td>\n",
       "      <td>0.001</td>\n",
       "      <td>False</td>\n",
       "      <td>l2</td>\n",
       "      <td>0.001</td>\n",
       "    </tr>\n",
       "    <tr>\n",
       "      <th>3</th>\n",
       "      <td>Regresion Logistica</td>\n",
       "      <td>0.852</td>\n",
       "      <td>0.010</td>\n",
       "      <td>True</td>\n",
       "      <td>l2</td>\n",
       "      <td>0.001</td>\n",
       "    </tr>\n",
       "    <tr>\n",
       "      <th>6</th>\n",
       "      <td>Regresion Logistica</td>\n",
       "      <td>0.852</td>\n",
       "      <td>1.000</td>\n",
       "      <td>False</td>\n",
       "      <td>l2</td>\n",
       "      <td>0.001</td>\n",
       "    </tr>\n",
       "    <tr>\n",
       "      <th>5</th>\n",
       "      <td>Regresion Logistica</td>\n",
       "      <td>0.836</td>\n",
       "      <td>0.100</td>\n",
       "      <td>True</td>\n",
       "      <td>l2</td>\n",
       "      <td>0.001</td>\n",
       "    </tr>\n",
       "    <tr>\n",
       "      <th>8</th>\n",
       "      <td>Regresion Logistica</td>\n",
       "      <td>0.836</td>\n",
       "      <td>2.000</td>\n",
       "      <td>False</td>\n",
       "      <td>l2</td>\n",
       "      <td>0.001</td>\n",
       "    </tr>\n",
       "    <tr>\n",
       "      <th>4</th>\n",
       "      <td>Regresion Logistica</td>\n",
       "      <td>0.820</td>\n",
       "      <td>0.100</td>\n",
       "      <td>False</td>\n",
       "      <td>l2</td>\n",
       "      <td>0.001</td>\n",
       "    </tr>\n",
       "    <tr>\n",
       "      <th>7</th>\n",
       "      <td>Regresion Logistica</td>\n",
       "      <td>0.820</td>\n",
       "      <td>1.000</td>\n",
       "      <td>True</td>\n",
       "      <td>l2</td>\n",
       "      <td>0.001</td>\n",
       "    </tr>\n",
       "    <tr>\n",
       "      <th>9</th>\n",
       "      <td>Regresion Logistica</td>\n",
       "      <td>0.820</td>\n",
       "      <td>2.000</td>\n",
       "      <td>True</td>\n",
       "      <td>l2</td>\n",
       "      <td>0.001</td>\n",
       "    </tr>\n",
       "    <tr>\n",
       "      <th>1</th>\n",
       "      <td>Regresion Logistica</td>\n",
       "      <td>0.557</td>\n",
       "      <td>0.001</td>\n",
       "      <td>True</td>\n",
       "      <td>l2</td>\n",
       "      <td>0.001</td>\n",
       "    </tr>\n",
       "  </tbody>\n",
       "</table>\n",
       "</div>"
      ],
      "text/plain": [
       "                Modelo  Precision     C fit_intercept penalty   tol\n",
       "2  Regresion Logistica      0.869 0.010         False      l2 0.001\n",
       "0  Regresion Logistica      0.852 0.001         False      l2 0.001\n",
       "3  Regresion Logistica      0.852 0.010          True      l2 0.001\n",
       "6  Regresion Logistica      0.852 1.000         False      l2 0.001\n",
       "5  Regresion Logistica      0.836 0.100          True      l2 0.001\n",
       "8  Regresion Logistica      0.836 2.000         False      l2 0.001\n",
       "4  Regresion Logistica      0.820 0.100         False      l2 0.001\n",
       "7  Regresion Logistica      0.820 1.000          True      l2 0.001\n",
       "9  Regresion Logistica      0.820 2.000          True      l2 0.001\n",
       "1  Regresion Logistica      0.557 0.001          True      l2 0.001"
      ]
     },
     "execution_count": 206,
     "metadata": {},
     "output_type": "execute_result"
    }
   ],
   "source": [
    "modelos_rl.sort_values(by=\"Precision\", ascending=False)"
   ]
  },
  {
   "cell_type": "markdown",
   "id": "ede13171",
   "metadata": {},
   "source": [
    "#### Matriz de confusion "
   ]
  },
  {
   "cell_type": "code",
   "execution_count": 207,
   "id": "117475fc",
   "metadata": {},
   "outputs": [
    {
     "data": {
      "text/plain": [
       "<AxesSubplot:>"
      ]
     },
     "execution_count": 207,
     "metadata": {},
     "output_type": "execute_result"
    },
    {
     "data": {
      "image/png": "[encoded data removed]",
      "text/plain": [
       "<Figure size 432x288 with 2 Axes>"
      ]
     },
     "metadata": {
      "needs_background": "light"
     },
     "output_type": "display_data"
    }
   ],
   "source": [
    "cm_rl=confusion_matrix(y_test,prediccion)\n",
    "sns.heatmap(cm_rl/np.sum(cm_rl),annot = True, fmt=  '0.2%',cmap ='Purples')"
   ]
  },
  {
   "cell_type": "markdown",
   "id": "e3c270f9",
   "metadata": {},
   "source": [
    "### SMV"
   ]
  },
  {
   "cell_type": "markdown",
   "id": "6ac16a3e",
   "metadata": {},
   "source": [
    "#### SMV kernel: rbf"
   ]
  },
  {
   "cell_type": "code",
   "execution_count": 208,
   "id": "513f81ba",
   "metadata": {},
   "outputs": [
    {
     "data": {
      "text/plain": [
       "0.8688524590163934"
      ]
     },
     "execution_count": 208,
     "metadata": {},
     "output_type": "execute_result"
    }
   ],
   "source": [
    "#Modelo\n",
    "modelo_svm = SVC(C=2.0,kernel='rbf',gamma='scale',probability=True,tol=0.001)\n",
    "#Entrenamiento del modelo\n",
    "modelo_svm.fit(X_train,y_train)\n",
    "#Prediccion en base al training test\n",
    "prediccion_svg=modelo_svm.predict(X_test)\n",
    "#Accuracy obtenido\n",
    "acc_svg=accuracy_score(y_test,prediccion_svg)\n",
    "valor={\"Modelo\":\"SVG_rbf\",\"Precision\":acc_svg}\n",
    "modelos=modelos.append(valor,ignore_index=True)\n",
    "acc_svg"
   ]
  },
  {
   "cell_type": "code",
   "execution_count": 209,
   "id": "e1ad665e",
   "metadata": {},
   "outputs": [],
   "source": [
    "for i in c_list:\n",
    "    for j in gammas:\n",
    "        #Modelo\n",
    "        modelo_svm = SVC(C=i,kernel='rbf',tol=0.001,probability=True)\n",
    "        #Entrenamiento del modelo\n",
    "        modelo_svm.fit(X_train,y_train)\n",
    "        #Prediccion en base al training test\n",
    "        prediccion_svg=modelo_svm.predict(X_test)\n",
    "        #Accuracy obtenido\n",
    "        acc_svg=accuracy_score(y_test,prediccion_svg)\n",
    "        valor2={\"Modelo\":\"SVG_rbf\",\"Precision\":acc_svg,\"C\":i,\"probability\":'True','gamma':j,\"tol\":0.001}\n",
    "        modelos_svm = modelos_svm.append(valor2,ignore_index=True)\n",
    "        "
   ]
  },
  {
   "cell_type": "code",
   "execution_count": 210,
   "id": "5539b95e",
   "metadata": {},
   "outputs": [
    {
     "data": {
      "text/html": [
       "<div>\n",
       "<style scoped>\n",
       "    .dataframe tbody tr th:only-of-type {\n",
       "        vertical-align: middle;\n",
       "    }\n",
       "\n",
       "    .dataframe tbody tr th {\n",
       "        vertical-align: top;\n",
       "    }\n",
       "\n",
       "    .dataframe thead th {\n",
       "        text-align: right;\n",
       "    }\n",
       "</style>\n",
       "<table border=\"1\" class=\"dataframe\">\n",
       "  <thead>\n",
       "    <tr style=\"text-align: right;\">\n",
       "      <th></th>\n",
       "      <th>Modelo</th>\n",
       "      <th>Precision</th>\n",
       "      <th>C</th>\n",
       "      <th>probability</th>\n",
       "      <th>gamma</th>\n",
       "      <th>tol</th>\n",
       "    </tr>\n",
       "  </thead>\n",
       "  <tbody>\n",
       "    <tr>\n",
       "      <th>4</th>\n",
       "      <td>SVG_rbf</td>\n",
       "      <td>0.869</td>\n",
       "      <td>0.100</td>\n",
       "      <td>True</td>\n",
       "      <td>scale</td>\n",
       "      <td>0.001</td>\n",
       "    </tr>\n",
       "    <tr>\n",
       "      <th>5</th>\n",
       "      <td>SVG_rbf</td>\n",
       "      <td>0.869</td>\n",
       "      <td>0.100</td>\n",
       "      <td>True</td>\n",
       "      <td>auto</td>\n",
       "      <td>0.001</td>\n",
       "    </tr>\n",
       "    <tr>\n",
       "      <th>6</th>\n",
       "      <td>SVG_rbf</td>\n",
       "      <td>0.869</td>\n",
       "      <td>1.000</td>\n",
       "      <td>True</td>\n",
       "      <td>scale</td>\n",
       "      <td>0.001</td>\n",
       "    </tr>\n",
       "    <tr>\n",
       "      <th>7</th>\n",
       "      <td>SVG_rbf</td>\n",
       "      <td>0.869</td>\n",
       "      <td>1.000</td>\n",
       "      <td>True</td>\n",
       "      <td>auto</td>\n",
       "      <td>0.001</td>\n",
       "    </tr>\n",
       "    <tr>\n",
       "      <th>8</th>\n",
       "      <td>SVG_rbf</td>\n",
       "      <td>0.869</td>\n",
       "      <td>2.000</td>\n",
       "      <td>True</td>\n",
       "      <td>scale</td>\n",
       "      <td>0.001</td>\n",
       "    </tr>\n",
       "    <tr>\n",
       "      <th>9</th>\n",
       "      <td>SVG_rbf</td>\n",
       "      <td>0.869</td>\n",
       "      <td>2.000</td>\n",
       "      <td>True</td>\n",
       "      <td>auto</td>\n",
       "      <td>0.001</td>\n",
       "    </tr>\n",
       "    <tr>\n",
       "      <th>0</th>\n",
       "      <td>SVG_rbf</td>\n",
       "      <td>0.525</td>\n",
       "      <td>0.001</td>\n",
       "      <td>True</td>\n",
       "      <td>scale</td>\n",
       "      <td>0.001</td>\n",
       "    </tr>\n",
       "    <tr>\n",
       "      <th>1</th>\n",
       "      <td>SVG_rbf</td>\n",
       "      <td>0.525</td>\n",
       "      <td>0.001</td>\n",
       "      <td>True</td>\n",
       "      <td>auto</td>\n",
       "      <td>0.001</td>\n",
       "    </tr>\n",
       "    <tr>\n",
       "      <th>2</th>\n",
       "      <td>SVG_rbf</td>\n",
       "      <td>0.525</td>\n",
       "      <td>0.010</td>\n",
       "      <td>True</td>\n",
       "      <td>scale</td>\n",
       "      <td>0.001</td>\n",
       "    </tr>\n",
       "    <tr>\n",
       "      <th>3</th>\n",
       "      <td>SVG_rbf</td>\n",
       "      <td>0.525</td>\n",
       "      <td>0.010</td>\n",
       "      <td>True</td>\n",
       "      <td>auto</td>\n",
       "      <td>0.001</td>\n",
       "    </tr>\n",
       "  </tbody>\n",
       "</table>\n",
       "</div>"
      ],
      "text/plain": [
       "    Modelo  Precision     C probability  gamma   tol\n",
       "4  SVG_rbf      0.869 0.100        True  scale 0.001\n",
       "5  SVG_rbf      0.869 0.100        True   auto 0.001\n",
       "6  SVG_rbf      0.869 1.000        True  scale 0.001\n",
       "7  SVG_rbf      0.869 1.000        True   auto 0.001\n",
       "8  SVG_rbf      0.869 2.000        True  scale 0.001\n",
       "9  SVG_rbf      0.869 2.000        True   auto 0.001\n",
       "0  SVG_rbf      0.525 0.001        True  scale 0.001\n",
       "1  SVG_rbf      0.525 0.001        True   auto 0.001\n",
       "2  SVG_rbf      0.525 0.010        True  scale 0.001\n",
       "3  SVG_rbf      0.525 0.010        True   auto 0.001"
      ]
     },
     "execution_count": 210,
     "metadata": {},
     "output_type": "execute_result"
    }
   ],
   "source": [
    "modelos_svm.sort_values(by=\"Precision\", ascending=False)"
   ]
  },
  {
   "cell_type": "code",
   "execution_count": 211,
   "id": "913ba125",
   "metadata": {},
   "outputs": [
    {
     "data": {
      "text/plain": [
       "<AxesSubplot:>"
      ]
     },
     "execution_count": 211,
     "metadata": {},
     "output_type": "execute_result"
    },
    {
     "data": {
      "image/png": "[encoded data removed]",
      "text/plain": [
       "<Figure size 432x288 with 2 Axes>"
      ]
     },
     "metadata": {
      "needs_background": "light"
     },
     "output_type": "display_data"
    }
   ],
   "source": [
    "cm_svg=confusion_matrix(y_test,prediccion_svg)\n",
    "sns.heatmap(cm_svg/np.sum(cm_svg),annot = True, fmt=  '0.2%',cmap ='Purples')"
   ]
  },
  {
   "cell_type": "markdown",
   "id": "f4f34274",
   "metadata": {},
   "source": [
    "#### SRV kernel: linear"
   ]
  },
  {
   "cell_type": "code",
   "execution_count": 212,
   "id": "63b2ea81",
   "metadata": {},
   "outputs": [
    {
     "data": {
      "text/plain": [
       "0.8360655737704918"
      ]
     },
     "execution_count": 212,
     "metadata": {},
     "output_type": "execute_result"
    }
   ],
   "source": [
    "#Modelo\n",
    "modelo_svm = SVC(C=2.0,kernel='linear',gamma='scale',probability=True,tol=0.001)\n",
    "#Entrenamiento del modelo\n",
    "modelo_svm.fit(X_train,y_train)\n",
    "#Prediccion en base al training test\n",
    "prediccion_svg=modelo_svm.predict(X_test)\n",
    "#Accuracy obtenido\n",
    "acc_svg=accuracy_score(y_test,prediccion_svg)\n",
    "valor={\"Modelo\":\"SVG_linear\",\"Precision\":acc_svg}\n",
    "modelos=modelos.append(valor,ignore_index=True)\n",
    "acc_svg"
   ]
  },
  {
   "cell_type": "code",
   "execution_count": 213,
   "id": "db72fb30",
   "metadata": {},
   "outputs": [],
   "source": [
    "for i in c_list:\n",
    "    for j in gammas:\n",
    "        #Modelo\n",
    "        modelo_svm = SVC(C=2.0,kernel='linear',gamma='scale',probability=True,tol=0.001)\n",
    "        #Entrenamiento del modelo\n",
    "        modelo_svm.fit(X_train,y_train)\n",
    "        #Prediccion en base al training test\n",
    "        prediccion_svg=modelo_svm.predict(X_test)\n",
    "        #Accuracy obtenido\n",
    "        acc_svg=accuracy_score(y_test,prediccion_svg)\n",
    "        valor2={\"Modelo\":\"SVG_linear\",\"Precision\":acc_svg,\"C\":i,\"probability\":'True','gamma':j,\"tol\":0.01}\n",
    "        modelos_svm_linear = modelos_svm_linear.append(valor2,ignore_index=True)\n"
   ]
  },
  {
   "cell_type": "code",
   "execution_count": 214,
   "id": "ae9b934a",
   "metadata": {},
   "outputs": [
    {
     "data": {
      "text/html": [
       "<div>\n",
       "<style scoped>\n",
       "    .dataframe tbody tr th:only-of-type {\n",
       "        vertical-align: middle;\n",
       "    }\n",
       "\n",
       "    .dataframe tbody tr th {\n",
       "        vertical-align: top;\n",
       "    }\n",
       "\n",
       "    .dataframe thead th {\n",
       "        text-align: right;\n",
       "    }\n",
       "</style>\n",
       "<table border=\"1\" class=\"dataframe\">\n",
       "  <thead>\n",
       "    <tr style=\"text-align: right;\">\n",
       "      <th></th>\n",
       "      <th>Modelo</th>\n",
       "      <th>Precision</th>\n",
       "      <th>C</th>\n",
       "      <th>probability</th>\n",
       "      <th>gamma</th>\n",
       "      <th>tol</th>\n",
       "    </tr>\n",
       "  </thead>\n",
       "  <tbody>\n",
       "    <tr>\n",
       "      <th>0</th>\n",
       "      <td>SVG_linear</td>\n",
       "      <td>0.836</td>\n",
       "      <td>0.001</td>\n",
       "      <td>True</td>\n",
       "      <td>scale</td>\n",
       "      <td>0.010</td>\n",
       "    </tr>\n",
       "    <tr>\n",
       "      <th>1</th>\n",
       "      <td>SVG_linear</td>\n",
       "      <td>0.836</td>\n",
       "      <td>0.001</td>\n",
       "      <td>True</td>\n",
       "      <td>auto</td>\n",
       "      <td>0.010</td>\n",
       "    </tr>\n",
       "    <tr>\n",
       "      <th>2</th>\n",
       "      <td>SVG_linear</td>\n",
       "      <td>0.836</td>\n",
       "      <td>0.010</td>\n",
       "      <td>True</td>\n",
       "      <td>scale</td>\n",
       "      <td>0.010</td>\n",
       "    </tr>\n",
       "    <tr>\n",
       "      <th>3</th>\n",
       "      <td>SVG_linear</td>\n",
       "      <td>0.836</td>\n",
       "      <td>0.010</td>\n",
       "      <td>True</td>\n",
       "      <td>auto</td>\n",
       "      <td>0.010</td>\n",
       "    </tr>\n",
       "    <tr>\n",
       "      <th>4</th>\n",
       "      <td>SVG_linear</td>\n",
       "      <td>0.836</td>\n",
       "      <td>0.100</td>\n",
       "      <td>True</td>\n",
       "      <td>scale</td>\n",
       "      <td>0.010</td>\n",
       "    </tr>\n",
       "    <tr>\n",
       "      <th>5</th>\n",
       "      <td>SVG_linear</td>\n",
       "      <td>0.836</td>\n",
       "      <td>0.100</td>\n",
       "      <td>True</td>\n",
       "      <td>auto</td>\n",
       "      <td>0.010</td>\n",
       "    </tr>\n",
       "    <tr>\n",
       "      <th>6</th>\n",
       "      <td>SVG_linear</td>\n",
       "      <td>0.836</td>\n",
       "      <td>1.000</td>\n",
       "      <td>True</td>\n",
       "      <td>scale</td>\n",
       "      <td>0.010</td>\n",
       "    </tr>\n",
       "    <tr>\n",
       "      <th>7</th>\n",
       "      <td>SVG_linear</td>\n",
       "      <td>0.836</td>\n",
       "      <td>1.000</td>\n",
       "      <td>True</td>\n",
       "      <td>auto</td>\n",
       "      <td>0.010</td>\n",
       "    </tr>\n",
       "    <tr>\n",
       "      <th>8</th>\n",
       "      <td>SVG_linear</td>\n",
       "      <td>0.836</td>\n",
       "      <td>2.000</td>\n",
       "      <td>True</td>\n",
       "      <td>scale</td>\n",
       "      <td>0.010</td>\n",
       "    </tr>\n",
       "    <tr>\n",
       "      <th>9</th>\n",
       "      <td>SVG_linear</td>\n",
       "      <td>0.836</td>\n",
       "      <td>2.000</td>\n",
       "      <td>True</td>\n",
       "      <td>auto</td>\n",
       "      <td>0.010</td>\n",
       "    </tr>\n",
       "  </tbody>\n",
       "</table>\n",
       "</div>"
      ],
      "text/plain": [
       "       Modelo  Precision     C probability  gamma   tol\n",
       "0  SVG_linear      0.836 0.001        True  scale 0.010\n",
       "1  SVG_linear      0.836 0.001        True   auto 0.010\n",
       "2  SVG_linear      0.836 0.010        True  scale 0.010\n",
       "3  SVG_linear      0.836 0.010        True   auto 0.010\n",
       "4  SVG_linear      0.836 0.100        True  scale 0.010\n",
       "5  SVG_linear      0.836 0.100        True   auto 0.010\n",
       "6  SVG_linear      0.836 1.000        True  scale 0.010\n",
       "7  SVG_linear      0.836 1.000        True   auto 0.010\n",
       "8  SVG_linear      0.836 2.000        True  scale 0.010\n",
       "9  SVG_linear      0.836 2.000        True   auto 0.010"
      ]
     },
     "execution_count": 214,
     "metadata": {},
     "output_type": "execute_result"
    }
   ],
   "source": [
    "modelos_svm_linear.sort_values(by=\"Precision\", ascending=False)"
   ]
  },
  {
   "cell_type": "code",
   "execution_count": 215,
   "id": "395e95d3",
   "metadata": {},
   "outputs": [
    {
     "data": {
      "text/plain": [
       "<AxesSubplot:>"
      ]
     },
     "execution_count": 215,
     "metadata": {},
     "output_type": "execute_result"
    },
    {
     "data": {
      "image/png": "[encoded data removed]",
      "text/plain": [
       "<Figure size 432x288 with 2 Axes>"
      ]
     },
     "metadata": {
      "needs_background": "light"
     },
     "output_type": "display_data"
    }
   ],
   "source": [
    "cm_svg=confusion_matrix(y_test,prediccion_svg)\n",
    "sns.heatmap(cm_svg/np.sum(cm_svg),annot = True, fmt=  '0.2%',cmap ='Purples')"
   ]
  },
  {
   "cell_type": "markdown",
   "id": "6b3f6e62",
   "metadata": {},
   "source": [
    "#### SRV kernel: poly"
   ]
  },
  {
   "cell_type": "code",
   "execution_count": 216,
   "id": "5fd44283",
   "metadata": {},
   "outputs": [
    {
     "data": {
      "text/plain": [
       "0.8360655737704918"
      ]
     },
     "execution_count": 216,
     "metadata": {},
     "output_type": "execute_result"
    }
   ],
   "source": [
    "#Modelo\n",
    "modelo_svm = SVC(C=2.0,kernel='linear',gamma='scale',probability=True,tol=0.001)\n",
    "#Entrenamiento del modelo\n",
    "modelo_svm.fit(X_train,y_train)\n",
    "#Prediccion en base al training test\n",
    "prediccion_svg=modelo_svm.predict(X_test)\n",
    "#Accuracy obtenido\n",
    "acc_svg=accuracy_score(y_test,prediccion_svg)\n",
    "valor={\"Modelo\":\"SVG_poly\",\"Precision\":acc_svg}\n",
    "modelos=modelos.append(valor,ignore_index=True)\n",
    "acc_svg"
   ]
  },
  {
   "cell_type": "code",
   "execution_count": 217,
   "id": "4aaed70e",
   "metadata": {},
   "outputs": [],
   "source": [
    "for i in c_list:\n",
    "    for j in gammas:\n",
    "        #Modelo\n",
    "        modelo_svm = SVC(C=2.0,kernel='linear',gamma='scale',probability=True,tol=0.001)\n",
    "        #Entrenamiento del modelo\n",
    "        modelo_svm.fit(X_train,y_train)\n",
    "        #Prediccion en base al training test\n",
    "        prediccion_svg=modelo_svm.predict(X_test)\n",
    "        #Accuracy obtenido\n",
    "        acc_svg=accuracy_score(y_test,prediccion_svg)\n",
    "        valor2={\"Modelo\":\"SVG_poly\",\"Precision\":acc_svg,\"C\":i,\"probability\":'True','gamma':j,\"tol\":0.01}\n",
    "        modelos_svm_poly = modelos_svm_poly.append(valor2,ignore_index=True)"
   ]
  },
  {
   "cell_type": "code",
   "execution_count": 218,
   "id": "7a182022",
   "metadata": {},
   "outputs": [
    {
     "data": {
      "text/html": [
       "<div>\n",
       "<style scoped>\n",
       "    .dataframe tbody tr th:only-of-type {\n",
       "        vertical-align: middle;\n",
       "    }\n",
       "\n",
       "    .dataframe tbody tr th {\n",
       "        vertical-align: top;\n",
       "    }\n",
       "\n",
       "    .dataframe thead th {\n",
       "        text-align: right;\n",
       "    }\n",
       "</style>\n",
       "<table border=\"1\" class=\"dataframe\">\n",
       "  <thead>\n",
       "    <tr style=\"text-align: right;\">\n",
       "      <th></th>\n",
       "      <th>Modelo</th>\n",
       "      <th>Precision</th>\n",
       "      <th>C</th>\n",
       "      <th>probability</th>\n",
       "      <th>gamma</th>\n",
       "      <th>tol</th>\n",
       "    </tr>\n",
       "  </thead>\n",
       "  <tbody>\n",
       "    <tr>\n",
       "      <th>0</th>\n",
       "      <td>SVG_poly</td>\n",
       "      <td>0.836</td>\n",
       "      <td>0.001</td>\n",
       "      <td>True</td>\n",
       "      <td>scale</td>\n",
       "      <td>0.010</td>\n",
       "    </tr>\n",
       "    <tr>\n",
       "      <th>1</th>\n",
       "      <td>SVG_poly</td>\n",
       "      <td>0.836</td>\n",
       "      <td>0.001</td>\n",
       "      <td>True</td>\n",
       "      <td>auto</td>\n",
       "      <td>0.010</td>\n",
       "    </tr>\n",
       "    <tr>\n",
       "      <th>2</th>\n",
       "      <td>SVG_poly</td>\n",
       "      <td>0.836</td>\n",
       "      <td>0.010</td>\n",
       "      <td>True</td>\n",
       "      <td>scale</td>\n",
       "      <td>0.010</td>\n",
       "    </tr>\n",
       "    <tr>\n",
       "      <th>3</th>\n",
       "      <td>SVG_poly</td>\n",
       "      <td>0.836</td>\n",
       "      <td>0.010</td>\n",
       "      <td>True</td>\n",
       "      <td>auto</td>\n",
       "      <td>0.010</td>\n",
       "    </tr>\n",
       "    <tr>\n",
       "      <th>4</th>\n",
       "      <td>SVG_poly</td>\n",
       "      <td>0.836</td>\n",
       "      <td>0.100</td>\n",
       "      <td>True</td>\n",
       "      <td>scale</td>\n",
       "      <td>0.010</td>\n",
       "    </tr>\n",
       "    <tr>\n",
       "      <th>5</th>\n",
       "      <td>SVG_poly</td>\n",
       "      <td>0.836</td>\n",
       "      <td>0.100</td>\n",
       "      <td>True</td>\n",
       "      <td>auto</td>\n",
       "      <td>0.010</td>\n",
       "    </tr>\n",
       "    <tr>\n",
       "      <th>6</th>\n",
       "      <td>SVG_poly</td>\n",
       "      <td>0.836</td>\n",
       "      <td>1.000</td>\n",
       "      <td>True</td>\n",
       "      <td>scale</td>\n",
       "      <td>0.010</td>\n",
       "    </tr>\n",
       "    <tr>\n",
       "      <th>7</th>\n",
       "      <td>SVG_poly</td>\n",
       "      <td>0.836</td>\n",
       "      <td>1.000</td>\n",
       "      <td>True</td>\n",
       "      <td>auto</td>\n",
       "      <td>0.010</td>\n",
       "    </tr>\n",
       "    <tr>\n",
       "      <th>8</th>\n",
       "      <td>SVG_poly</td>\n",
       "      <td>0.836</td>\n",
       "      <td>2.000</td>\n",
       "      <td>True</td>\n",
       "      <td>scale</td>\n",
       "      <td>0.010</td>\n",
       "    </tr>\n",
       "    <tr>\n",
       "      <th>9</th>\n",
       "      <td>SVG_poly</td>\n",
       "      <td>0.836</td>\n",
       "      <td>2.000</td>\n",
       "      <td>True</td>\n",
       "      <td>auto</td>\n",
       "      <td>0.010</td>\n",
       "    </tr>\n",
       "  </tbody>\n",
       "</table>\n",
       "</div>"
      ],
      "text/plain": [
       "     Modelo  Precision     C probability  gamma   tol\n",
       "0  SVG_poly      0.836 0.001        True  scale 0.010\n",
       "1  SVG_poly      0.836 0.001        True   auto 0.010\n",
       "2  SVG_poly      0.836 0.010        True  scale 0.010\n",
       "3  SVG_poly      0.836 0.010        True   auto 0.010\n",
       "4  SVG_poly      0.836 0.100        True  scale 0.010\n",
       "5  SVG_poly      0.836 0.100        True   auto 0.010\n",
       "6  SVG_poly      0.836 1.000        True  scale 0.010\n",
       "7  SVG_poly      0.836 1.000        True   auto 0.010\n",
       "8  SVG_poly      0.836 2.000        True  scale 0.010\n",
       "9  SVG_poly      0.836 2.000        True   auto 0.010"
      ]
     },
     "execution_count": 218,
     "metadata": {},
     "output_type": "execute_result"
    }
   ],
   "source": [
    "modelos_svm_poly.sort_values(by=\"Precision\", ascending=False)"
   ]
  },
  {
   "cell_type": "code",
   "execution_count": 219,
   "id": "7295f79b",
   "metadata": {},
   "outputs": [
    {
     "data": {
      "text/plain": [
       "<AxesSubplot:>"
      ]
     },
     "execution_count": 219,
     "metadata": {},
     "output_type": "execute_result"
    },
    {
     "data": {
      "image/png": "[encoded data removed]",
      "text/plain": [
       "<Figure size 432x288 with 2 Axes>"
      ]
     },
     "metadata": {
      "needs_background": "light"
     },
     "output_type": "display_data"
    }
   ],
   "source": [
    "cm_svg=confusion_matrix(y_test,prediccion_svg)\n",
    "sns.heatmap(cm_svg/np.sum(cm_svg),annot = True, fmt=  '0.2%',cmap ='Purples')"
   ]
  },
  {
   "cell_type": "markdown",
   "id": "6e3260c4",
   "metadata": {},
   "source": [
    "### Random Forest "
   ]
  },
  {
   "cell_type": "code",
   "execution_count": 220,
   "id": "61b8442e",
   "metadata": {},
   "outputs": [
    {
     "data": {
      "text/plain": [
       "0.8688524590163934"
      ]
     },
     "execution_count": 220,
     "metadata": {},
     "output_type": "execute_result"
    }
   ],
   "source": [
    "#Modelo\n",
    "modelo_rf = RandomForestClassifier(n_estimators=300,min_samples_leaf=0.15)\n",
    "#Entrenamiento del modelo\n",
    "modelo_rf.fit(X_train,y_train)\n",
    "#Prediccion en base al training test\n",
    "prediccion_rf=modelo_rf.predict(X_test)\n",
    "#Accuracy obtenido\n",
    "acc_rf=accuracy_score(y_test,prediccion_rf)\n",
    "valor={\"Modelo\":\"Random Forest\",\"Precision\":acc_rf}\n",
    "modelos=modelos.append(valor,ignore_index=True)\n",
    "acc_rf"
   ]
  },
  {
   "cell_type": "code",
   "execution_count": 221,
   "id": "2197f728",
   "metadata": {},
   "outputs": [],
   "source": [
    "for i in estimadores:\n",
    "    for j in min_samples:\n",
    "        #Modelo\n",
    "        modelo_rf = RandomForestClassifier(n_estimators=i,min_samples_leaf=j)\n",
    "        #Entrenamiento del modelo\n",
    "        modelo_rf.fit(X_train,y_train)\n",
    "        #Prediccion en base al training test\n",
    "        prediccion_rf=modelo_rf.predict(X_test)\n",
    "        #Accuracy obtenido\n",
    "        acc_rf=accuracy_score(y_test,prediccion_rf)\n",
    "        valor={\"Modelo\":\"Random Forest\",\"Precision\":acc_rf,\"n_estimators\":i,\"min_samples_leaf\":j}\n",
    "        modelo_rf_=modelo_rf_.append(valor,ignore_index=True)"
   ]
  },
  {
   "cell_type": "code",
   "execution_count": 222,
   "id": "d1af5219",
   "metadata": {},
   "outputs": [
    {
     "data": {
      "text/html": [
       "<div>\n",
       "<style scoped>\n",
       "    .dataframe tbody tr th:only-of-type {\n",
       "        vertical-align: middle;\n",
       "    }\n",
       "\n",
       "    .dataframe tbody tr th {\n",
       "        vertical-align: top;\n",
       "    }\n",
       "\n",
       "    .dataframe thead th {\n",
       "        text-align: right;\n",
       "    }\n",
       "</style>\n",
       "<table border=\"1\" class=\"dataframe\">\n",
       "  <thead>\n",
       "    <tr style=\"text-align: right;\">\n",
       "      <th></th>\n",
       "      <th>Modelo</th>\n",
       "      <th>Precision</th>\n",
       "      <th>n_estimators</th>\n",
       "      <th>min_samples_leaf</th>\n",
       "    </tr>\n",
       "  </thead>\n",
       "  <tbody>\n",
       "    <tr>\n",
       "      <th>0</th>\n",
       "      <td>Random Forest</td>\n",
       "      <td>0.869</td>\n",
       "      <td>100</td>\n",
       "      <td>0.100</td>\n",
       "    </tr>\n",
       "    <tr>\n",
       "      <th>7</th>\n",
       "      <td>Random Forest</td>\n",
       "      <td>0.869</td>\n",
       "      <td>200</td>\n",
       "      <td>0.200</td>\n",
       "    </tr>\n",
       "    <tr>\n",
       "      <th>16</th>\n",
       "      <td>Random Forest</td>\n",
       "      <td>0.869</td>\n",
       "      <td>500</td>\n",
       "      <td>0.150</td>\n",
       "    </tr>\n",
       "    <tr>\n",
       "      <th>15</th>\n",
       "      <td>Random Forest</td>\n",
       "      <td>0.869</td>\n",
       "      <td>500</td>\n",
       "      <td>0.100</td>\n",
       "    </tr>\n",
       "    <tr>\n",
       "      <th>12</th>\n",
       "      <td>Random Forest</td>\n",
       "      <td>0.869</td>\n",
       "      <td>300</td>\n",
       "      <td>0.200</td>\n",
       "    </tr>\n",
       "    <tr>\n",
       "      <th>1</th>\n",
       "      <td>Random Forest</td>\n",
       "      <td>0.869</td>\n",
       "      <td>100</td>\n",
       "      <td>0.150</td>\n",
       "    </tr>\n",
       "    <tr>\n",
       "      <th>10</th>\n",
       "      <td>Random Forest</td>\n",
       "      <td>0.869</td>\n",
       "      <td>300</td>\n",
       "      <td>0.100</td>\n",
       "    </tr>\n",
       "    <tr>\n",
       "      <th>6</th>\n",
       "      <td>Random Forest</td>\n",
       "      <td>0.869</td>\n",
       "      <td>200</td>\n",
       "      <td>0.150</td>\n",
       "    </tr>\n",
       "    <tr>\n",
       "      <th>5</th>\n",
       "      <td>Random Forest</td>\n",
       "      <td>0.869</td>\n",
       "      <td>200</td>\n",
       "      <td>0.100</td>\n",
       "    </tr>\n",
       "    <tr>\n",
       "      <th>11</th>\n",
       "      <td>Random Forest</td>\n",
       "      <td>0.852</td>\n",
       "      <td>300</td>\n",
       "      <td>0.150</td>\n",
       "    </tr>\n",
       "    <tr>\n",
       "      <th>2</th>\n",
       "      <td>Random Forest</td>\n",
       "      <td>0.852</td>\n",
       "      <td>100</td>\n",
       "      <td>0.200</td>\n",
       "    </tr>\n",
       "    <tr>\n",
       "      <th>17</th>\n",
       "      <td>Random Forest</td>\n",
       "      <td>0.852</td>\n",
       "      <td>500</td>\n",
       "      <td>0.200</td>\n",
       "    </tr>\n",
       "    <tr>\n",
       "      <th>18</th>\n",
       "      <td>Random Forest</td>\n",
       "      <td>0.836</td>\n",
       "      <td>500</td>\n",
       "      <td>0.250</td>\n",
       "    </tr>\n",
       "    <tr>\n",
       "      <th>8</th>\n",
       "      <td>Random Forest</td>\n",
       "      <td>0.820</td>\n",
       "      <td>200</td>\n",
       "      <td>0.250</td>\n",
       "    </tr>\n",
       "    <tr>\n",
       "      <th>13</th>\n",
       "      <td>Random Forest</td>\n",
       "      <td>0.820</td>\n",
       "      <td>300</td>\n",
       "      <td>0.250</td>\n",
       "    </tr>\n",
       "    <tr>\n",
       "      <th>3</th>\n",
       "      <td>Random Forest</td>\n",
       "      <td>0.820</td>\n",
       "      <td>100</td>\n",
       "      <td>0.250</td>\n",
       "    </tr>\n",
       "    <tr>\n",
       "      <th>19</th>\n",
       "      <td>Random Forest</td>\n",
       "      <td>0.754</td>\n",
       "      <td>500</td>\n",
       "      <td>0.300</td>\n",
       "    </tr>\n",
       "    <tr>\n",
       "      <th>9</th>\n",
       "      <td>Random Forest</td>\n",
       "      <td>0.738</td>\n",
       "      <td>200</td>\n",
       "      <td>0.300</td>\n",
       "    </tr>\n",
       "    <tr>\n",
       "      <th>4</th>\n",
       "      <td>Random Forest</td>\n",
       "      <td>0.738</td>\n",
       "      <td>100</td>\n",
       "      <td>0.300</td>\n",
       "    </tr>\n",
       "    <tr>\n",
       "      <th>14</th>\n",
       "      <td>Random Forest</td>\n",
       "      <td>0.738</td>\n",
       "      <td>300</td>\n",
       "      <td>0.300</td>\n",
       "    </tr>\n",
       "  </tbody>\n",
       "</table>\n",
       "</div>"
      ],
      "text/plain": [
       "           Modelo  Precision n_estimators  min_samples_leaf\n",
       "0   Random Forest      0.869          100             0.100\n",
       "7   Random Forest      0.869          200             0.200\n",
       "16  Random Forest      0.869          500             0.150\n",
       "15  Random Forest      0.869          500             0.100\n",
       "12  Random Forest      0.869          300             0.200\n",
       "1   Random Forest      0.869          100             0.150\n",
       "10  Random Forest      0.869          300             0.100\n",
       "6   Random Forest      0.869          200             0.150\n",
       "5   Random Forest      0.869          200             0.100\n",
       "11  Random Forest      0.852          300             0.150\n",
       "2   Random Forest      0.852          100             0.200\n",
       "17  Random Forest      0.852          500             0.200\n",
       "18  Random Forest      0.836          500             0.250\n",
       "8   Random Forest      0.820          200             0.250\n",
       "13  Random Forest      0.820          300             0.250\n",
       "3   Random Forest      0.820          100             0.250\n",
       "19  Random Forest      0.754          500             0.300\n",
       "9   Random Forest      0.738          200             0.300\n",
       "4   Random Forest      0.738          100             0.300\n",
       "14  Random Forest      0.738          300             0.300"
      ]
     },
     "execution_count": 222,
     "metadata": {},
     "output_type": "execute_result"
    }
   ],
   "source": [
    "modelo_rf_.sort_values(by=\"Precision\", ascending=False)"
   ]
  },
  {
   "cell_type": "code",
   "execution_count": 223,
   "id": "ba082345",
   "metadata": {},
   "outputs": [
    {
     "data": {
      "text/plain": [
       "<AxesSubplot:>"
      ]
     },
     "execution_count": 223,
     "metadata": {},
     "output_type": "execute_result"
    },
    {
     "data": {
      "image/png": "[encoded data removed]",
      "text/plain": [
       "<Figure size 432x288 with 2 Axes>"
      ]
     },
     "metadata": {
      "needs_background": "light"
     },
     "output_type": "display_data"
    }
   ],
   "source": [
    "cm_rf=confusion_matrix(y_test,prediccion_rf)\n",
    "sns.heatmap(cm_rf/np.sum(cm_rf),annot = True, fmt=  '0.2%', cmap ='Purples')"
   ]
  },
  {
   "cell_type": "markdown",
   "id": "0b372872",
   "metadata": {},
   "source": [
    "### KNN"
   ]
  },
  {
   "cell_type": "code",
   "execution_count": 224,
   "id": "edc1928f",
   "metadata": {},
   "outputs": [
    {
     "data": {
      "text/plain": [
       "0.9016393442622951"
      ]
     },
     "execution_count": 224,
     "metadata": {},
     "output_type": "execute_result"
    }
   ],
   "source": [
    "#Modelo\n",
    "knn =  KNeighborsClassifier(n_neighbors=15)\n",
    "#Entrenamiento del modelo\n",
    "knn.fit(X_train, y_train)\n",
    "#Prediccion en base al training test\n",
    "prediccion_knn=knn.predict(X_test)\n",
    "#Accuracy obtenido\n",
    "acc_knn=accuracy_score(y_test,prediccion_knn)\n",
    "valor={\"Modelo\":\"Knn\",\"Precision\":acc_knn}\n",
    "modelos=modelos.append(valor,ignore_index=True)\n",
    "acc_knn"
   ]
  },
  {
   "cell_type": "code",
   "execution_count": 225,
   "id": "ce28b4fc",
   "metadata": {},
   "outputs": [],
   "source": [
    "for i in n:\n",
    "    #Modelo\n",
    "    knn =  KNeighborsClassifier(n_neighbors=i)\n",
    "    #Entrenamiento del modelo\n",
    "    knn.fit(X_train, y_train)\n",
    "    #Prediccion en base al training test\n",
    "    prediccion_knn=knn.predict(X_test)\n",
    "    #Accuracy obtenido\n",
    "    acc_knn=accuracy_score(y_test,prediccion_knn)\n",
    "    \n",
    "    valor={\"Modelo\":\"Knn\",\"Precision\":acc_knn,\"n\":i}\n",
    "    modelo_knn=modelo_knn.append(valor,ignore_index=True)\n"
   ]
  },
  {
   "cell_type": "code",
   "execution_count": 226,
   "id": "6382a041",
   "metadata": {},
   "outputs": [
    {
     "data": {
      "text/html": [
       "<div>\n",
       "<style scoped>\n",
       "    .dataframe tbody tr th:only-of-type {\n",
       "        vertical-align: middle;\n",
       "    }\n",
       "\n",
       "    .dataframe tbody tr th {\n",
       "        vertical-align: top;\n",
       "    }\n",
       "\n",
       "    .dataframe thead th {\n",
       "        text-align: right;\n",
       "    }\n",
       "</style>\n",
       "<table border=\"1\" class=\"dataframe\">\n",
       "  <thead>\n",
       "    <tr style=\"text-align: right;\">\n",
       "      <th></th>\n",
       "      <th>Modelo</th>\n",
       "      <th>Precision</th>\n",
       "      <th>n</th>\n",
       "    </tr>\n",
       "  </thead>\n",
       "  <tbody>\n",
       "    <tr>\n",
       "      <th>1</th>\n",
       "      <td>Knn</td>\n",
       "      <td>0.902</td>\n",
       "      <td>15</td>\n",
       "    </tr>\n",
       "    <tr>\n",
       "      <th>0</th>\n",
       "      <td>Knn</td>\n",
       "      <td>0.869</td>\n",
       "      <td>10</td>\n",
       "    </tr>\n",
       "    <tr>\n",
       "      <th>3</th>\n",
       "      <td>Knn</td>\n",
       "      <td>0.869</td>\n",
       "      <td>30</td>\n",
       "    </tr>\n",
       "    <tr>\n",
       "      <th>2</th>\n",
       "      <td>Knn</td>\n",
       "      <td>0.852</td>\n",
       "      <td>20</td>\n",
       "    </tr>\n",
       "    <tr>\n",
       "      <th>4</th>\n",
       "      <td>Knn</td>\n",
       "      <td>0.852</td>\n",
       "      <td>50</td>\n",
       "    </tr>\n",
       "  </tbody>\n",
       "</table>\n",
       "</div>"
      ],
      "text/plain": [
       "  Modelo  Precision   n\n",
       "1    Knn      0.902  15\n",
       "0    Knn      0.869  10\n",
       "3    Knn      0.869  30\n",
       "2    Knn      0.852  20\n",
       "4    Knn      0.852  50"
      ]
     },
     "execution_count": 226,
     "metadata": {},
     "output_type": "execute_result"
    }
   ],
   "source": [
    "modelo_knn.sort_values(by=\"Precision\", ascending=False)"
   ]
  },
  {
   "cell_type": "code",
   "execution_count": 227,
   "id": "821e4320",
   "metadata": {},
   "outputs": [
    {
     "data": {
      "text/plain": [
       "<AxesSubplot:>"
      ]
     },
     "execution_count": 227,
     "metadata": {},
     "output_type": "execute_result"
    },
    {
     "data": {
      "image/png": "[encoded data removed]",
      "text/plain": [
       "<Figure size 432x288 with 2 Axes>"
      ]
     },
     "metadata": {
      "needs_background": "light"
     },
     "output_type": "display_data"
    }
   ],
   "source": [
    "cm_knn=confusion_matrix(y_test,prediccion_knn)\n",
    "sns.heatmap(cm_knn/np.sum(cm_knn),annot = True, fmt=  '0.2%', cmap ='Purples')"
   ]
  },
  {
   "cell_type": "code",
   "execution_count": 228,
   "id": "48354d23",
   "metadata": {},
   "outputs": [
    {
     "data": {
      "text/html": [
       "<div>\n",
       "<style scoped>\n",
       "    .dataframe tbody tr th:only-of-type {\n",
       "        vertical-align: middle;\n",
       "    }\n",
       "\n",
       "    .dataframe tbody tr th {\n",
       "        vertical-align: top;\n",
       "    }\n",
       "\n",
       "    .dataframe thead th {\n",
       "        text-align: right;\n",
       "    }\n",
       "</style>\n",
       "<table border=\"1\" class=\"dataframe\">\n",
       "  <thead>\n",
       "    <tr style=\"text-align: right;\">\n",
       "      <th></th>\n",
       "      <th>Modelo</th>\n",
       "      <th>Precision</th>\n",
       "    </tr>\n",
       "  </thead>\n",
       "  <tbody>\n",
       "    <tr>\n",
       "      <th>5</th>\n",
       "      <td>Knn</td>\n",
       "      <td>0.902</td>\n",
       "    </tr>\n",
       "    <tr>\n",
       "      <th>1</th>\n",
       "      <td>SVG_rbf</td>\n",
       "      <td>0.869</td>\n",
       "    </tr>\n",
       "    <tr>\n",
       "      <th>4</th>\n",
       "      <td>Random Forest</td>\n",
       "      <td>0.869</td>\n",
       "    </tr>\n",
       "    <tr>\n",
       "      <th>0</th>\n",
       "      <td>Regresion Logistica</td>\n",
       "      <td>0.852</td>\n",
       "    </tr>\n",
       "    <tr>\n",
       "      <th>2</th>\n",
       "      <td>SVG_linear</td>\n",
       "      <td>0.836</td>\n",
       "    </tr>\n",
       "    <tr>\n",
       "      <th>3</th>\n",
       "      <td>SVG_poly</td>\n",
       "      <td>0.836</td>\n",
       "    </tr>\n",
       "  </tbody>\n",
       "</table>\n",
       "</div>"
      ],
      "text/plain": [
       "                Modelo  Precision\n",
       "5                  Knn      0.902\n",
       "1              SVG_rbf      0.869\n",
       "4        Random Forest      0.869\n",
       "0  Regresion Logistica      0.852\n",
       "2           SVG_linear      0.836\n",
       "3             SVG_poly      0.836"
      ]
     },
     "execution_count": 228,
     "metadata": {},
     "output_type": "execute_result"
    }
   ],
   "source": [
    "modelos.sort_values(by=\"Precision\", ascending=False)"
   ]
  },
  {
   "cell_type": "markdown",
   "id": "581310b2",
   "metadata": {},
   "source": [
    "## 4. Crossvalidation"
   ]
  },
  {
   "cell_type": "code",
   "execution_count": 229,
   "id": "7e0593a8",
   "metadata": {},
   "outputs": [
    {
     "name": "stdout",
     "output_type": "stream",
     "text": [
      "Shape of input data: (302, 13) and shape of target variable: (302,)\n"
     ]
    },
    {
     "data": {
      "text/html": [
       "<div>\n",
       "<style scoped>\n",
       "    .dataframe tbody tr th:only-of-type {\n",
       "        vertical-align: middle;\n",
       "    }\n",
       "\n",
       "    .dataframe tbody tr th {\n",
       "        vertical-align: top;\n",
       "    }\n",
       "\n",
       "    .dataframe thead th {\n",
       "        text-align: right;\n",
       "    }\n",
       "</style>\n",
       "<table border=\"1\" class=\"dataframe\">\n",
       "  <thead>\n",
       "    <tr style=\"text-align: right;\">\n",
       "      <th></th>\n",
       "      <th>age</th>\n",
       "      <th>sex</th>\n",
       "      <th>cp</th>\n",
       "      <th>trtbps</th>\n",
       "      <th>chol</th>\n",
       "      <th>fbs</th>\n",
       "      <th>restecg</th>\n",
       "      <th>thalachh</th>\n",
       "      <th>exng</th>\n",
       "      <th>oldpeak</th>\n",
       "      <th>slp</th>\n",
       "      <th>caa</th>\n",
       "      <th>thall</th>\n",
       "    </tr>\n",
       "  </thead>\n",
       "  <tbody>\n",
       "    <tr>\n",
       "      <th>0</th>\n",
       "      <td>0.708</td>\n",
       "      <td>1</td>\n",
       "      <td>3</td>\n",
       "      <td>0.481</td>\n",
       "      <td>0.244</td>\n",
       "      <td>1</td>\n",
       "      <td>0</td>\n",
       "      <td>0.603</td>\n",
       "      <td>0</td>\n",
       "      <td>0.371</td>\n",
       "      <td>0</td>\n",
       "      <td>0</td>\n",
       "      <td>1</td>\n",
       "    </tr>\n",
       "    <tr>\n",
       "      <th>1</th>\n",
       "      <td>0.167</td>\n",
       "      <td>1</td>\n",
       "      <td>2</td>\n",
       "      <td>0.340</td>\n",
       "      <td>0.283</td>\n",
       "      <td>0</td>\n",
       "      <td>1</td>\n",
       "      <td>0.885</td>\n",
       "      <td>0</td>\n",
       "      <td>0.565</td>\n",
       "      <td>0</td>\n",
       "      <td>0</td>\n",
       "      <td>2</td>\n",
       "    </tr>\n",
       "    <tr>\n",
       "      <th>2</th>\n",
       "      <td>0.250</td>\n",
       "      <td>0</td>\n",
       "      <td>1</td>\n",
       "      <td>0.340</td>\n",
       "      <td>0.178</td>\n",
       "      <td>0</td>\n",
       "      <td>0</td>\n",
       "      <td>0.771</td>\n",
       "      <td>0</td>\n",
       "      <td>0.226</td>\n",
       "      <td>2</td>\n",
       "      <td>0</td>\n",
       "      <td>2</td>\n",
       "    </tr>\n",
       "    <tr>\n",
       "      <th>3</th>\n",
       "      <td>0.562</td>\n",
       "      <td>1</td>\n",
       "      <td>1</td>\n",
       "      <td>0.245</td>\n",
       "      <td>0.251</td>\n",
       "      <td>0</td>\n",
       "      <td>1</td>\n",
       "      <td>0.817</td>\n",
       "      <td>0</td>\n",
       "      <td>0.129</td>\n",
       "      <td>2</td>\n",
       "      <td>0</td>\n",
       "      <td>2</td>\n",
       "    </tr>\n",
       "    <tr>\n",
       "      <th>4</th>\n",
       "      <td>0.583</td>\n",
       "      <td>0</td>\n",
       "      <td>0</td>\n",
       "      <td>0.245</td>\n",
       "      <td>0.521</td>\n",
       "      <td>0</td>\n",
       "      <td>1</td>\n",
       "      <td>0.702</td>\n",
       "      <td>1</td>\n",
       "      <td>0.097</td>\n",
       "      <td>2</td>\n",
       "      <td>0</td>\n",
       "      <td>2</td>\n",
       "    </tr>\n",
       "  </tbody>\n",
       "</table>\n",
       "</div>"
      ],
      "text/plain": [
       "    age  sex  cp  trtbps  chol  fbs  restecg  thalachh  exng  oldpeak  slp  \\\n",
       "0 0.708    1   3   0.481 0.244    1        0     0.603     0    0.371    0   \n",
       "1 0.167    1   2   0.340 0.283    0        1     0.885     0    0.565    0   \n",
       "2 0.250    0   1   0.340 0.178    0        0     0.771     0    0.226    2   \n",
       "3 0.562    1   1   0.245 0.251    0        1     0.817     0    0.129    2   \n",
       "4 0.583    0   0   0.245 0.521    0        1     0.702     1    0.097    2   \n",
       "\n",
       "   caa  thall  \n",
       "0    0      1  \n",
       "1    0      2  \n",
       "2    0      2  \n",
       "3    0      2  \n",
       "4    0      2  "
      ]
     },
     "execution_count": 229,
     "metadata": {},
     "output_type": "execute_result"
    }
   ],
   "source": [
    "#Seleccionamos solo los elementos numericos\n",
    "#numeric_cols=[cname for cname in dataset.columns if dataset[cname].dtype in ['int64', 'float64']]\n",
    "#numeric_cols\n",
    "#En nuestro caso todos los elementos son numericos, sino tendriamos que seleccionar solo los elementos numericos.\n",
    "#X= dataset[numeric_cols].copy()\n",
    "\n",
    "#Asignacion de variable independientes\n",
    "X=dataset_norm.drop('output', axis=1)\n",
    "#Variable Objetivo\n",
    "y=dataset_norm['output']\n",
    "#X_train, X_test, y_train, y_test = train_test_split(X, y,train_size=0.8,random_state=42)\n",
    "print(\"Shape of input data: {} and shape of target variable: {}\".format(X.shape, y.shape))\n",
    "X.head()"
   ]
  },
  {
   "cell_type": "markdown",
   "id": "862020f7",
   "metadata": {},
   "source": [
    "### Crossvalidation en base al (RMSE)"
   ]
  },
  {
   "cell_type": "code",
   "execution_count": 230,
   "id": "79a052e1",
   "metadata": {},
   "outputs": [
    {
     "name": "stdout",
     "output_type": "stream",
     "text": [
      "Fold:1, Train set: 241, Test set:61\n",
      "Fold:2, Train set: 241, Test set:61\n",
      "Fold:3, Train set: 242, Test set:60\n",
      "Fold:4, Train set: 242, Test set:60\n",
      "Fold:5, Train set: 242, Test set:60\n"
     ]
    }
   ],
   "source": [
    "#Usemos cross_val_score para evaluar una puntuación mediante validación cruzada.\n",
    "kf =KFold(n_splits=5, shuffle=True, random_state=42)\n",
    "cnt = 1\n",
    "# split()  method generate indices to split data into training and test set.\n",
    "for train_index, test_index in kf.split(X, y):\n",
    "    print(f'Fold:{cnt}, Train set: {len(train_index)}, Test set:{len(test_index)}')\n",
    "    cnt += 1"
   ]
  },
  {
   "cell_type": "code",
   "execution_count": 231,
   "id": "24cdfc06",
   "metadata": {},
   "outputs": [],
   "source": [
    "#Analizaremos el rendimiento del modelo en función de la raíz del error cuadrático medio (RMSE).\n",
    "def rmse(score):\n",
    "    rmse = np.sqrt(-score)\n",
    "    print(f'rmse= {\"{:.2f}\".format(rmse)}')"
   ]
  },
  {
   "cell_type": "markdown",
   "id": "d36bf02b",
   "metadata": {},
   "source": [
    "#### Evaluación de Random Forest"
   ]
  },
  {
   "cell_type": "code",
   "execution_count": 232,
   "id": "e48f2ed6",
   "metadata": {},
   "outputs": [
    {
     "name": "stdout",
     "output_type": "stream",
     "text": [
      "Scores para cada fold son: [-0.10541148 -0.15086885 -0.11806    -0.170885   -0.12727167]\n",
      "rmse= 0.37\n"
     ]
    }
   ],
   "source": [
    "score = cross_val_score(ensemble.RandomForestRegressor(random_state= 42), X, y, cv= kf, scoring=\"neg_mean_squared_error\")\n",
    "print(f'Scores para cada fold son: {score}')\n",
    "rmse(score.mean())"
   ]
  },
  {
   "cell_type": "markdown",
   "id": "f559dac9",
   "metadata": {},
   "source": [
    "#### Ajuste del modelo"
   ]
  },
  {
   "cell_type": "code",
   "execution_count": 233,
   "id": "2ee01dc7",
   "metadata": {},
   "outputs": [
    {
     "name": "stdout",
     "output_type": "stream",
     "text": [
      "For estimators: 50\n",
      "rmse= 0.37\n",
      "For estimators: 100\n",
      "rmse= 0.37\n",
      "For estimators: 150\n",
      "rmse= 0.37\n",
      "For estimators: 200\n",
      "rmse= 0.37\n",
      "For estimators: 250\n",
      "rmse= 0.37\n"
     ]
    }
   ],
   "source": [
    "#A partir de 250 es un buen estimador !\n",
    "estimators = [50, 100, 150, 200, 250]\n",
    "\n",
    "for count in estimators:\n",
    "    score = cross_val_score(ensemble.RandomForestRegressor(n_estimators= count, random_state= 42), X, y, cv= kf, scoring=\"neg_mean_squared_error\")\n",
    "    print(f'For estimators: {count}')\n",
    "    rmse(score.mean())"
   ]
  },
  {
   "cell_type": "markdown",
   "id": "ece2c75b",
   "metadata": {},
   "source": [
    "#### Evaluación de regresión Logistica"
   ]
  },
  {
   "cell_type": "code",
   "execution_count": 234,
   "id": "6a6643d5",
   "metadata": {},
   "outputs": [
    {
     "name": "stdout",
     "output_type": "stream",
     "text": [
      "Scores para cada fold son: [-0.18032787 -0.18032787 -0.13333333 -0.25       -0.2       ]\n",
      "rmse= 0.43\n"
     ]
    }
   ],
   "source": [
    "score = cross_val_score(LogisticRegression(), X, y, cv= kf, scoring=\"neg_mean_squared_error\")\n",
    "print(f'Scores para cada fold son: {score}')\n",
    "rmse(score.mean())"
   ]
  },
  {
   "cell_type": "markdown",
   "id": "e684d40f",
   "metadata": {},
   "source": [
    "### Crossvalidation en base al accuracy"
   ]
  },
  {
   "cell_type": "markdown",
   "id": "f406259d",
   "metadata": {},
   "source": [
    "#### Evaluación de Random Forest"
   ]
  },
  {
   "cell_type": "code",
   "execution_count": 235,
   "id": "be041f9a",
   "metadata": {},
   "outputs": [
    {
     "name": "stdout",
     "output_type": "stream",
     "text": [
      "Scores for each fold are: [0.86885246 0.78688525 0.85       0.73333333 0.8       ]\n",
      "Average score: 0.81\n"
     ]
    }
   ],
   "source": [
    "score = cross_val_score(ensemble.RandomForestClassifier(random_state= 42), X, y, cv= kf, scoring=\"accuracy\")\n",
    "print(f'Scores for each fold are: {score}')\n",
    "print(f'Average score: {\"{:.2f}\".format(score.mean())}')"
   ]
  },
  {
   "cell_type": "markdown",
   "id": "18a8202e",
   "metadata": {},
   "source": [
    "#### Ajustes del modelo"
   ]
  },
  {
   "cell_type": "code",
   "execution_count": 236,
   "id": "daeb8acf",
   "metadata": {},
   "outputs": [
    {
     "name": "stdout",
     "output_type": "stream",
     "text": [
      "Average score(50): 0.821\n",
      "Average score(100): 0.808\n",
      "Average score(150): 0.821\n",
      "Average score(200): 0.828\n",
      "Average score(250): 0.821\n",
      "Average score(300): 0.824\n"
     ]
    }
   ],
   "source": [
    "n_estimators = [50, 100, 150, 200, 250, 300]\n",
    "\n",
    "for val in n_estimators:\n",
    "    score = cross_val_score(ensemble.RandomForestClassifier(n_estimators= val, random_state= 42), X, y, cv= kf, scoring=\"accuracy\")\n",
    "    print(f'Average score({val}): {\"{:.3f}\".format(score.mean())}')"
   ]
  },
  {
   "cell_type": "markdown",
   "id": "10db294d",
   "metadata": {},
   "source": [
    "#### Evaluación de regresión Logistica"
   ]
  },
  {
   "cell_type": "code",
   "execution_count": 237,
   "metadata": {},
   "outputs": [
    {
     "name": "stdout",
     "output_type": "stream",
     "text": [
      "Scores for each fold are: [0.81967213 0.81967213 0.86666667 0.75       0.8       ]\n",
      "Average score: 0.81\n"
     ]
    }
   ],
   "source": [
    "score = cross_val_score(LogisticRegression(), X, y, cv= kf, scoring=\"accuracy\")\n",
    "print(f'Scores for each fold are: {score}')\n",
    "print(f'Average score: {\"{:.2f}\".format(score.mean())}')"
   ]
  },
  {
   "cell_type": "markdown",
   "id": "49922512",
   "metadata": {},
   "source": [
    "### Implementacion de LOO"
   ]
  },
  {
   "cell_type": "code",
   "execution_count": 238,
   "id": "9112c79b",
   "metadata": {},
   "outputs": [
    {
     "name": "stdout",
     "output_type": "stream",
     "text": [
      "Folds: 5, MSE: 0.6958469945355191\n"
     ]
    }
   ],
   "source": [
    "loo = LeaveOneOut()\n",
    "loo.get_n_splits(X)\n",
    "crossvalidation = KFold(n_splits=5, random_state=None, shuffle=False)\n",
    "scores = cross_val_score(modelo_rf, X, y, scoring=\"neg_mean_squared_error\", cv=crossvalidation,\n",
    " n_jobs=1)\n",
    "print(\"Folds: \" + str(len(scores)) + \", MSE: \" + str(np.mean(np.abs(scores))))"
   ]
  },
  {
   "cell_type": "code",
   "execution_count": 239,
   "id": "17197987",
   "metadata": {},
   "outputs": [
    {
     "name": "stdout",
     "output_type": "stream",
     "text": [
      "Folds: 5, MSE: 0.7516393442622951\n"
     ]
    }
   ],
   "source": [
    "loo = LeaveOneOut()\n",
    "loo.get_n_splits(X)\n",
    "crossvalidation = KFold(n_splits=5, random_state=42, shuffle=True)\n",
    "scores = cross_val_score(modelo_rf, X, y, scoring=\"accuracy\", cv=crossvalidation,\n",
    " n_jobs=1)\n",
    "print(\"Folds: \" + str(len(scores)) + \", MSE: \" + str(np.mean(np.abs(scores))))"
   ]
  },
  {
   "cell_type": "markdown",
   "id": "2ba504b9",
   "metadata": {},
   "source": [
    "## 5. Metric Analysis"
   ]
  },
  {
   "cell_type": "code",
   "execution_count": 240,
   "id": "04b30b5f",
   "metadata": {},
   "outputs": [],
   "source": [
    "def evaluate_preds(y_true, y_preds):\n",
    "  accuracy = accuracy_score(y_true, y_preds)\n",
    "  precision = precision_score(y_true, y_preds)\n",
    "  recall = recall_score(y_true, y_preds)\n",
    "  f1 = f1_score(y_true, y_preds)\n",
    "  print(f\"Acc : {round(accuracy, 2) * 100:.2f}%\")\n",
    "  print(f\"Precision : {round(precision, 2):.2f}\")\n",
    "  print(f\"recall : {round(recall, 2):.2f}\")\n",
    "  print(f\"F1 score {round(f1, 2):.2f}\")"
   ]
  },
  {
   "cell_type": "code",
   "execution_count": 241,
   "id": "bdb78462",
   "metadata": {},
   "outputs": [
    {
     "name": "stdout",
     "output_type": "stream",
     "text": [
      "Acc : 75.00%\n",
      "Precision : 0.73\n",
      "recall : 0.84\n",
      "F1 score 0.78\n"
     ]
    }
   ],
   "source": [
    "#Evaluacion del metodo selecciondo Random Forest\n",
    "evaluate_preds(y_test,prediccion_rf)"
   ]
  },
  {
   "cell_type": "code",
   "execution_count": 242,
   "id": "d861b4dc",
   "metadata": {},
   "outputs": [
    {
     "name": "stdout",
     "output_type": "stream",
     "text": [
      "Acc : 82.00%\n",
      "Precision : 0.84\n",
      "recall : 0.81\n",
      "F1 score 0.83\n"
     ]
    }
   ],
   "source": [
    "#Evaluacion del metodo con menor presicion\n",
    "evaluate_preds(y_test,prediccion)"
   ]
  },
  {
   "cell_type": "markdown",
   "id": "7114058a",
   "metadata": {},
   "source": [
    "### Roc curve"
   ]
  },
  {
   "cell_type": "code",
   "execution_count": 243,
   "id": "7bbbf5a2",
   "metadata": {},
   "outputs": [
    {
     "data": {
      "image/png": "[encoded data removed]",
      "text/plain": [
       "<Figure size 432x288 with 1 Axes>"
      ]
     },
     "metadata": {
      "needs_background": "light"
     },
     "output_type": "display_data"
    }
   ],
   "source": [
    "#Regresion Logistica\n",
    "fpr, tpr, threshold = roc_curve(y_test, prediccion)\n",
    "plt.plot(fpr, tpr)\n",
    "plt.title('ROC curve for Heart disease Logistic R classifier')\n",
    "plt.xlabel('False positive Rate')\n",
    "plt.ylabel('True positive Rate')\n",
    "plt.grid(True)"
   ]
  },
  {
   "cell_type": "code",
   "execution_count": 244,
   "id": "287def75",
   "metadata": {},
   "outputs": [
    {
     "data": {
      "image/png": "[encoded data removed]",
      "text/plain": [
       "<Figure size 432x288 with 1 Axes>"
      ]
     },
     "metadata": {
      "needs_background": "light"
     },
     "output_type": "display_data"
    }
   ],
   "source": [
    "#Random Forest\n",
    "fpr, tpr, threshold = roc_curve(y_test, prediccion_rf)\n",
    "plt.plot(fpr, tpr)\n",
    "plt.title('ROC curve for Heart disease Random Forest classifier')\n",
    "plt.xlabel('False positive Rate')\n",
    "plt.ylabel('True positive Rate')\n",
    "plt.grid(True)"
   ]
  },
  {
   "cell_type": "code",
   "execution_count": 245,
   "id": "fe622751",
   "metadata": {},
   "outputs": [
    {
     "data": {
      "image/png": "[encoded data removed]",
      "text/plain": [
       "<Figure size 432x288 with 1 Axes>"
      ]
     },
     "metadata": {
      "needs_background": "light"
     },
     "output_type": "display_data"
    }
   ],
   "source": [
    "fig, ax = plt.subplots()\n",
    "ax.plot(fpr, tpr)\n",
    "ax.plot([0,1], [0,1])\n",
    "ax.set(title=\"ROC Curve\",\n",
    "        xlabel=\"fpr\",\n",
    "        ylabel=\"tpr\",)\n",
    "plt.show()"
   ]
  },
  {
   "cell_type": "markdown",
   "id": "d0b4e01e",
   "metadata": {},
   "source": [
    "### Classification_report"
   ]
  },
  {
   "cell_type": "code",
   "execution_count": 246,
   "id": "a2ed99fc",
   "metadata": {},
   "outputs": [
    {
     "name": "stdout",
     "output_type": "stream",
     "text": [
      "                         precision    recall  f1-score   support\n",
      "\n",
      "   Padece de enfermedad       0.79      0.66      0.72        29\n",
      "No padece de enfermedad       0.73      0.84      0.78        32\n",
      "\n",
      "               accuracy                           0.75        61\n",
      "              macro avg       0.76      0.75      0.75        61\n",
      "           weighted avg       0.76      0.75      0.75        61\n",
      "\n"
     ]
    }
   ],
   "source": [
    "target_names = ['Padece de enfermedad', 'No padece de enfermedad']\n",
    "print(classification_report(y_test,prediccion_rf,target_names=target_names))"
   ]
  },
  {
   "cell_type": "code",
   "execution_count": 247,
   "id": "02ceeeb4",
   "metadata": {},
   "outputs": [
    {
     "name": "stdout",
     "output_type": "stream",
     "text": [
      "                         precision    recall  f1-score   support\n",
      "\n",
      "   Padece de enfermedad       0.80      0.83      0.81        29\n",
      "No padece de enfermedad       0.84      0.81      0.83        32\n",
      "\n",
      "               accuracy                           0.82        61\n",
      "              macro avg       0.82      0.82      0.82        61\n",
      "           weighted avg       0.82      0.82      0.82        61\n",
      "\n"
     ]
    }
   ],
   "source": [
    "target_names = ['Padece de enfermedad', 'No padece de enfermedad']\n",
    "print(classification_report(y_test,prediccion,target_names=target_names))"
   ]
  },
  {
   "cell_type": "markdown",
   "id": "bee07441",
   "metadata": {},
   "source": []
  },
  {
   "cell_type": "markdown",
   "id": "07cfcb0b",
   "metadata": {},
   "source": []
  }
 ],
 "metadata": {
  "kernelspec": {
   "display_name": "Python 3 (ipykernel)",
   "language": "python",
   "name": "python3"
  },
  "language_info": {
   "codemirror_mode": {
    "name": "ipython",
    "version": 3
   },
   "file_extension": ".py",
   "mimetype": "text/x-python",
   "name": "python",
   "nbconvert_exporter": "python",
   "pygments_lexer": "ipython3",
   "version": "3.9.6"
  }
 },
 "nbformat": 4,
 "nbformat_minor": 5
}
